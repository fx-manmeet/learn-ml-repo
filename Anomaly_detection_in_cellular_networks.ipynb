{
  "nbformat": 4,
  "nbformat_minor": 0,
  "metadata": {
    "colab": {
      "provenance": [],
      "mount_file_id": "1IvuTA-9QCmgP9y1QXLp64Vm3hM5zpLQ_",
      "authorship_tag": "ABX9TyNFC3ZrnxLVBb55+jy0mJfO",
      "include_colab_link": true
    },
    "kernelspec": {
      "name": "python3",
      "display_name": "Python 3"
    },
    "language_info": {
      "name": "python"
    }
  },
  "cells": [
    {
      "cell_type": "markdown",
      "metadata": {
        "id": "view-in-github",
        "colab_type": "text"
      },
      "source": [
        "<a href=\"https://colab.research.google.com/github/fx-manmeet/learn-ml-repo/blob/main/Anomaly_detection_in_cellular_networks.ipynb\" target=\"_parent\"><img src=\"https://colab.research.google.com/assets/colab-badge.svg\" alt=\"Open In Colab\"/></a>"
      ]
    },
    {
      "cell_type": "markdown",
      "source": [
        "####The purpose of this notebook is to solve a classification problem proposed as a competition in the Kaggle InClass platform. we used different exploratory data analysis, feature selection and classification techniques. Lets walk through it."
      ],
      "metadata": {
        "id": "VYuAKKl8WRG9"
      }
    },
    {
      "cell_type": "markdown",
      "source": [
        "###Required libreries:\n",
        "\n",
        "####**pandas**: to work with dataset\n",
        "\n",
        "####**decisionTreeClassifier** model, **GaussianNB** model, **train_test_split**, **confusion_matrix** from scikit-learn for their self explainatory tasks"
      ],
      "metadata": {
        "id": "4eXE21NYW4w4"
      }
    },
    {
      "cell_type": "code",
      "source": [
        "import pandas as pd\n",
        "import pickle\n",
        "from sklearn.model_selection import train_test_split\n",
        "from sklearn.naive_bayes import GaussianNB\n",
        "from sklearn.tree import DecisionTreeClassifier\n",
        "from sklearn.metrics import accuracy_score, confusion_matrix, f1_score"
      ],
      "metadata": {
        "id": "yPafMOIOTqod"
      },
      "execution_count": 38,
      "outputs": []
    },
    {
      "cell_type": "markdown",
      "source": [
        "Exploratory Data Analysis"
      ],
      "metadata": {
        "id": "rQKmWgZJYMWN"
      }
    },
    {
      "cell_type": "code",
      "execution_count": 2,
      "metadata": {
        "id": "C_kQikZN1gQ2"
      },
      "outputs": [],
      "source": [
        "df = pd.read_csv('/content/drive/MyDrive/cellular_anamoly_dataset/ML-MATT-CompetitionQT1920_train.csv', encoding='windows-1252')"
      ]
    },
    {
      "cell_type": "code",
      "source": [
        "df.head()"
      ],
      "metadata": {
        "colab": {
          "base_uri": "https://localhost:8080/",
          "height": 226
        },
        "id": "bMU-POeKBuP0",
        "outputId": "c07b7031-1d00-441d-8e07-7a9b3604bcb0"
      },
      "execution_count": 3,
      "outputs": [
        {
          "output_type": "execute_result",
          "data": {
            "text/plain": [
              "    Time CellName  PRBUsageUL  PRBUsageDL  meanThr_DL  meanThr_UL  maxThr_DL  \\\n",
              "0  10:45    3BLTE      11.642       1.393       0.370       0.041     15.655   \n",
              "1   9:45    1BLTE      21.791       1.891       0.537       0.268     10.273   \n",
              "2   7:45    9BLTE       0.498       0.398       0.015       0.010      0.262   \n",
              "3   2:45    4ALTE       1.891       1.095       0.940       0.024     60.715   \n",
              "4   3:30   10BLTE       0.303       0.404       0.016       0.013      0.348   \n",
              "\n",
              "   maxThr_UL  meanUE_DL  meanUE_UL  maxUE_DL  maxUE_UL maxUE_UL+DL  Unusual  \n",
              "0      0.644      1.114      1.025       4.0       3.0           7        1  \n",
              "1      1.154      1.353      1.085       6.0       4.0          10        1  \n",
              "2      0.164      0.995      0.995       1.0       1.0           2        1  \n",
              "3      0.825      1.035      0.995       2.0       2.0           4        1  \n",
              "4      0.168      1.011      1.011       2.0       1.0           3        0  "
            ],
            "text/html": [
              "\n",
              "  <div id=\"df-46296400-f596-4a50-a673-3df811a79407\" class=\"colab-df-container\">\n",
              "    <div>\n",
              "<style scoped>\n",
              "    .dataframe tbody tr th:only-of-type {\n",
              "        vertical-align: middle;\n",
              "    }\n",
              "\n",
              "    .dataframe tbody tr th {\n",
              "        vertical-align: top;\n",
              "    }\n",
              "\n",
              "    .dataframe thead th {\n",
              "        text-align: right;\n",
              "    }\n",
              "</style>\n",
              "<table border=\"1\" class=\"dataframe\">\n",
              "  <thead>\n",
              "    <tr style=\"text-align: right;\">\n",
              "      <th></th>\n",
              "      <th>Time</th>\n",
              "      <th>CellName</th>\n",
              "      <th>PRBUsageUL</th>\n",
              "      <th>PRBUsageDL</th>\n",
              "      <th>meanThr_DL</th>\n",
              "      <th>meanThr_UL</th>\n",
              "      <th>maxThr_DL</th>\n",
              "      <th>maxThr_UL</th>\n",
              "      <th>meanUE_DL</th>\n",
              "      <th>meanUE_UL</th>\n",
              "      <th>maxUE_DL</th>\n",
              "      <th>maxUE_UL</th>\n",
              "      <th>maxUE_UL+DL</th>\n",
              "      <th>Unusual</th>\n",
              "    </tr>\n",
              "  </thead>\n",
              "  <tbody>\n",
              "    <tr>\n",
              "      <th>0</th>\n",
              "      <td>10:45</td>\n",
              "      <td>3BLTE</td>\n",
              "      <td>11.642</td>\n",
              "      <td>1.393</td>\n",
              "      <td>0.370</td>\n",
              "      <td>0.041</td>\n",
              "      <td>15.655</td>\n",
              "      <td>0.644</td>\n",
              "      <td>1.114</td>\n",
              "      <td>1.025</td>\n",
              "      <td>4.0</td>\n",
              "      <td>3.0</td>\n",
              "      <td>7</td>\n",
              "      <td>1</td>\n",
              "    </tr>\n",
              "    <tr>\n",
              "      <th>1</th>\n",
              "      <td>9:45</td>\n",
              "      <td>1BLTE</td>\n",
              "      <td>21.791</td>\n",
              "      <td>1.891</td>\n",
              "      <td>0.537</td>\n",
              "      <td>0.268</td>\n",
              "      <td>10.273</td>\n",
              "      <td>1.154</td>\n",
              "      <td>1.353</td>\n",
              "      <td>1.085</td>\n",
              "      <td>6.0</td>\n",
              "      <td>4.0</td>\n",
              "      <td>10</td>\n",
              "      <td>1</td>\n",
              "    </tr>\n",
              "    <tr>\n",
              "      <th>2</th>\n",
              "      <td>7:45</td>\n",
              "      <td>9BLTE</td>\n",
              "      <td>0.498</td>\n",
              "      <td>0.398</td>\n",
              "      <td>0.015</td>\n",
              "      <td>0.010</td>\n",
              "      <td>0.262</td>\n",
              "      <td>0.164</td>\n",
              "      <td>0.995</td>\n",
              "      <td>0.995</td>\n",
              "      <td>1.0</td>\n",
              "      <td>1.0</td>\n",
              "      <td>2</td>\n",
              "      <td>1</td>\n",
              "    </tr>\n",
              "    <tr>\n",
              "      <th>3</th>\n",
              "      <td>2:45</td>\n",
              "      <td>4ALTE</td>\n",
              "      <td>1.891</td>\n",
              "      <td>1.095</td>\n",
              "      <td>0.940</td>\n",
              "      <td>0.024</td>\n",
              "      <td>60.715</td>\n",
              "      <td>0.825</td>\n",
              "      <td>1.035</td>\n",
              "      <td>0.995</td>\n",
              "      <td>2.0</td>\n",
              "      <td>2.0</td>\n",
              "      <td>4</td>\n",
              "      <td>1</td>\n",
              "    </tr>\n",
              "    <tr>\n",
              "      <th>4</th>\n",
              "      <td>3:30</td>\n",
              "      <td>10BLTE</td>\n",
              "      <td>0.303</td>\n",
              "      <td>0.404</td>\n",
              "      <td>0.016</td>\n",
              "      <td>0.013</td>\n",
              "      <td>0.348</td>\n",
              "      <td>0.168</td>\n",
              "      <td>1.011</td>\n",
              "      <td>1.011</td>\n",
              "      <td>2.0</td>\n",
              "      <td>1.0</td>\n",
              "      <td>3</td>\n",
              "      <td>0</td>\n",
              "    </tr>\n",
              "  </tbody>\n",
              "</table>\n",
              "</div>\n",
              "    <div class=\"colab-df-buttons\">\n",
              "\n",
              "  <div class=\"colab-df-container\">\n",
              "    <button class=\"colab-df-convert\" onclick=\"convertToInteractive('df-46296400-f596-4a50-a673-3df811a79407')\"\n",
              "            title=\"Convert this dataframe to an interactive table.\"\n",
              "            style=\"display:none;\">\n",
              "\n",
              "  <svg xmlns=\"http://www.w3.org/2000/svg\" height=\"24px\" viewBox=\"0 -960 960 960\">\n",
              "    <path d=\"M120-120v-720h720v720H120Zm60-500h600v-160H180v160Zm220 220h160v-160H400v160Zm0 220h160v-160H400v160ZM180-400h160v-160H180v160Zm440 0h160v-160H620v160ZM180-180h160v-160H180v160Zm440 0h160v-160H620v160Z\"/>\n",
              "  </svg>\n",
              "    </button>\n",
              "\n",
              "  <style>\n",
              "    .colab-df-container {\n",
              "      display:flex;\n",
              "      gap: 12px;\n",
              "    }\n",
              "\n",
              "    .colab-df-convert {\n",
              "      background-color: #E8F0FE;\n",
              "      border: none;\n",
              "      border-radius: 50%;\n",
              "      cursor: pointer;\n",
              "      display: none;\n",
              "      fill: #1967D2;\n",
              "      height: 32px;\n",
              "      padding: 0 0 0 0;\n",
              "      width: 32px;\n",
              "    }\n",
              "\n",
              "    .colab-df-convert:hover {\n",
              "      background-color: #E2EBFA;\n",
              "      box-shadow: 0px 1px 2px rgba(60, 64, 67, 0.3), 0px 1px 3px 1px rgba(60, 64, 67, 0.15);\n",
              "      fill: #174EA6;\n",
              "    }\n",
              "\n",
              "    .colab-df-buttons div {\n",
              "      margin-bottom: 4px;\n",
              "    }\n",
              "\n",
              "    [theme=dark] .colab-df-convert {\n",
              "      background-color: #3B4455;\n",
              "      fill: #D2E3FC;\n",
              "    }\n",
              "\n",
              "    [theme=dark] .colab-df-convert:hover {\n",
              "      background-color: #434B5C;\n",
              "      box-shadow: 0px 1px 3px 1px rgba(0, 0, 0, 0.15);\n",
              "      filter: drop-shadow(0px 1px 2px rgba(0, 0, 0, 0.3));\n",
              "      fill: #FFFFFF;\n",
              "    }\n",
              "  </style>\n",
              "\n",
              "    <script>\n",
              "      const buttonEl =\n",
              "        document.querySelector('#df-46296400-f596-4a50-a673-3df811a79407 button.colab-df-convert');\n",
              "      buttonEl.style.display =\n",
              "        google.colab.kernel.accessAllowed ? 'block' : 'none';\n",
              "\n",
              "      async function convertToInteractive(key) {\n",
              "        const element = document.querySelector('#df-46296400-f596-4a50-a673-3df811a79407');\n",
              "        const dataTable =\n",
              "          await google.colab.kernel.invokeFunction('convertToInteractive',\n",
              "                                                    [key], {});\n",
              "        if (!dataTable) return;\n",
              "\n",
              "        const docLinkHtml = 'Like what you see? Visit the ' +\n",
              "          '<a target=\"_blank\" href=https://colab.research.google.com/notebooks/data_table.ipynb>data table notebook</a>'\n",
              "          + ' to learn more about interactive tables.';\n",
              "        element.innerHTML = '';\n",
              "        dataTable['output_type'] = 'display_data';\n",
              "        await google.colab.output.renderOutput(dataTable, element);\n",
              "        const docLink = document.createElement('div');\n",
              "        docLink.innerHTML = docLinkHtml;\n",
              "        element.appendChild(docLink);\n",
              "      }\n",
              "    </script>\n",
              "  </div>\n",
              "\n",
              "\n",
              "<div id=\"df-008e64b8-ea17-49e9-b295-246cc76eefba\">\n",
              "  <button class=\"colab-df-quickchart\" onclick=\"quickchart('df-008e64b8-ea17-49e9-b295-246cc76eefba')\"\n",
              "            title=\"Suggest charts\"\n",
              "            style=\"display:none;\">\n",
              "\n",
              "<svg xmlns=\"http://www.w3.org/2000/svg\" height=\"24px\"viewBox=\"0 0 24 24\"\n",
              "     width=\"24px\">\n",
              "    <g>\n",
              "        <path d=\"M19 3H5c-1.1 0-2 .9-2 2v14c0 1.1.9 2 2 2h14c1.1 0 2-.9 2-2V5c0-1.1-.9-2-2-2zM9 17H7v-7h2v7zm4 0h-2V7h2v10zm4 0h-2v-4h2v4z\"/>\n",
              "    </g>\n",
              "</svg>\n",
              "  </button>\n",
              "\n",
              "<style>\n",
              "  .colab-df-quickchart {\n",
              "      --bg-color: #E8F0FE;\n",
              "      --fill-color: #1967D2;\n",
              "      --hover-bg-color: #E2EBFA;\n",
              "      --hover-fill-color: #174EA6;\n",
              "      --disabled-fill-color: #AAA;\n",
              "      --disabled-bg-color: #DDD;\n",
              "  }\n",
              "\n",
              "  [theme=dark] .colab-df-quickchart {\n",
              "      --bg-color: #3B4455;\n",
              "      --fill-color: #D2E3FC;\n",
              "      --hover-bg-color: #434B5C;\n",
              "      --hover-fill-color: #FFFFFF;\n",
              "      --disabled-bg-color: #3B4455;\n",
              "      --disabled-fill-color: #666;\n",
              "  }\n",
              "\n",
              "  .colab-df-quickchart {\n",
              "    background-color: var(--bg-color);\n",
              "    border: none;\n",
              "    border-radius: 50%;\n",
              "    cursor: pointer;\n",
              "    display: none;\n",
              "    fill: var(--fill-color);\n",
              "    height: 32px;\n",
              "    padding: 0;\n",
              "    width: 32px;\n",
              "  }\n",
              "\n",
              "  .colab-df-quickchart:hover {\n",
              "    background-color: var(--hover-bg-color);\n",
              "    box-shadow: 0 1px 2px rgba(60, 64, 67, 0.3), 0 1px 3px 1px rgba(60, 64, 67, 0.15);\n",
              "    fill: var(--button-hover-fill-color);\n",
              "  }\n",
              "\n",
              "  .colab-df-quickchart-complete:disabled,\n",
              "  .colab-df-quickchart-complete:disabled:hover {\n",
              "    background-color: var(--disabled-bg-color);\n",
              "    fill: var(--disabled-fill-color);\n",
              "    box-shadow: none;\n",
              "  }\n",
              "\n",
              "  .colab-df-spinner {\n",
              "    border: 2px solid var(--fill-color);\n",
              "    border-color: transparent;\n",
              "    border-bottom-color: var(--fill-color);\n",
              "    animation:\n",
              "      spin 1s steps(1) infinite;\n",
              "  }\n",
              "\n",
              "  @keyframes spin {\n",
              "    0% {\n",
              "      border-color: transparent;\n",
              "      border-bottom-color: var(--fill-color);\n",
              "      border-left-color: var(--fill-color);\n",
              "    }\n",
              "    20% {\n",
              "      border-color: transparent;\n",
              "      border-left-color: var(--fill-color);\n",
              "      border-top-color: var(--fill-color);\n",
              "    }\n",
              "    30% {\n",
              "      border-color: transparent;\n",
              "      border-left-color: var(--fill-color);\n",
              "      border-top-color: var(--fill-color);\n",
              "      border-right-color: var(--fill-color);\n",
              "    }\n",
              "    40% {\n",
              "      border-color: transparent;\n",
              "      border-right-color: var(--fill-color);\n",
              "      border-top-color: var(--fill-color);\n",
              "    }\n",
              "    60% {\n",
              "      border-color: transparent;\n",
              "      border-right-color: var(--fill-color);\n",
              "    }\n",
              "    80% {\n",
              "      border-color: transparent;\n",
              "      border-right-color: var(--fill-color);\n",
              "      border-bottom-color: var(--fill-color);\n",
              "    }\n",
              "    90% {\n",
              "      border-color: transparent;\n",
              "      border-bottom-color: var(--fill-color);\n",
              "    }\n",
              "  }\n",
              "</style>\n",
              "\n",
              "  <script>\n",
              "    async function quickchart(key) {\n",
              "      const quickchartButtonEl =\n",
              "        document.querySelector('#' + key + ' button');\n",
              "      quickchartButtonEl.disabled = true;  // To prevent multiple clicks.\n",
              "      quickchartButtonEl.classList.add('colab-df-spinner');\n",
              "      try {\n",
              "        const charts = await google.colab.kernel.invokeFunction(\n",
              "            'suggestCharts', [key], {});\n",
              "      } catch (error) {\n",
              "        console.error('Error during call to suggestCharts:', error);\n",
              "      }\n",
              "      quickchartButtonEl.classList.remove('colab-df-spinner');\n",
              "      quickchartButtonEl.classList.add('colab-df-quickchart-complete');\n",
              "    }\n",
              "    (() => {\n",
              "      let quickchartButtonEl =\n",
              "        document.querySelector('#df-008e64b8-ea17-49e9-b295-246cc76eefba button');\n",
              "      quickchartButtonEl.style.display =\n",
              "        google.colab.kernel.accessAllowed ? 'block' : 'none';\n",
              "    })();\n",
              "  </script>\n",
              "</div>\n",
              "    </div>\n",
              "  </div>\n"
            ],
            "application/vnd.google.colaboratory.intrinsic+json": {
              "type": "dataframe",
              "variable_name": "df",
              "summary": "{\n  \"name\": \"df\",\n  \"rows\": 36904,\n  \"fields\": [\n    {\n      \"column\": \"Time\",\n      \"properties\": {\n        \"dtype\": \"object\",\n        \"num_unique_values\": 96,\n        \"samples\": [\n          \"15:15\",\n          \"0:00\",\n          \"11:15\"\n        ],\n        \"semantic_type\": \"\",\n        \"description\": \"\"\n      }\n    },\n    {\n      \"column\": \"CellName\",\n      \"properties\": {\n        \"dtype\": \"category\",\n        \"num_unique_values\": 33,\n        \"samples\": [\n          \"6VLTE\",\n          \"7WLTE\",\n          \"3ALTE\"\n        ],\n        \"semantic_type\": \"\",\n        \"description\": \"\"\n      }\n    },\n    {\n      \"column\": \"PRBUsageUL\",\n      \"properties\": {\n        \"dtype\": \"number\",\n        \"std\": 8.4282055350981,\n        \"min\": 0.0,\n        \"max\": 51.333,\n        \"num_unique_values\": 761,\n        \"samples\": [\n          6.269,\n          1.194,\n          0.101\n        ],\n        \"semantic_type\": \"\",\n        \"description\": \"\"\n      }\n    },\n    {\n      \"column\": \"PRBUsageDL\",\n      \"properties\": {\n        \"dtype\": \"number\",\n        \"std\": 2.247514385117622,\n        \"min\": 0.0,\n        \"max\": 77.505,\n        \"num_unique_values\": 345,\n        \"samples\": [\n          11.045,\n          7.276,\n          8.69\n        ],\n        \"semantic_type\": \"\",\n        \"description\": \"\"\n      }\n    },\n    {\n      \"column\": \"meanThr_DL\",\n      \"properties\": {\n        \"dtype\": \"number\",\n        \"std\": 0.7276227572629289,\n        \"min\": 0.0,\n        \"max\": 19.601,\n        \"num_unique_values\": 2941,\n        \"samples\": [\n          2.408,\n          0.424,\n          4.494\n        ],\n        \"semantic_type\": \"\",\n        \"description\": \"\"\n      }\n    },\n    {\n      \"column\": \"meanThr_UL\",\n      \"properties\": {\n        \"dtype\": \"number\",\n        \"std\": 0.1865549485309399,\n        \"min\": 0.0,\n        \"max\": 12.461,\n        \"num_unique_values\": 743,\n        \"samples\": [\n          2.247,\n          0.554,\n          0.453\n        ],\n        \"semantic_type\": \"\",\n        \"description\": \"\"\n      }\n    },\n    {\n      \"column\": \"maxThr_DL\",\n      \"properties\": {\n        \"dtype\": \"number\",\n        \"std\": 15.739932420132934,\n        \"min\": 0.0,\n        \"max\": 140.008,\n        \"num_unique_values\": 24039,\n        \"samples\": [\n          15.647,\n          33.441,\n          8.38\n        ],\n        \"semantic_type\": \"\",\n        \"description\": \"\"\n      }\n    },\n    {\n      \"column\": \"maxThr_UL\",\n      \"properties\": {\n        \"dtype\": \"number\",\n        \"std\": 5.028928420162178,\n        \"min\": 0.0,\n        \"max\": 48.253,\n        \"num_unique_values\": 5724,\n        \"samples\": [\n          25.218,\n          7.13,\n          6.681\n        ],\n        \"semantic_type\": \"\",\n        \"description\": \"\"\n      }\n    },\n    {\n      \"column\": \"meanUE_DL\",\n      \"properties\": {\n        \"dtype\": \"number\",\n        \"std\": 0.21406460113349024,\n        \"min\": 0.0,\n        \"max\": 2.915,\n        \"num_unique_values\": 309,\n        \"samples\": [\n          2.304,\n          1.021,\n          1.065\n        ],\n        \"semantic_type\": \"\",\n        \"description\": \"\"\n      }\n    },\n    {\n      \"column\": \"meanUE_UL\",\n      \"properties\": {\n        \"dtype\": \"number\",\n        \"std\": 0.5354931850211719,\n        \"min\": 0.0,\n        \"max\": 2.668,\n        \"num_unique_values\": 198,\n        \"samples\": [\n          1.284,\n          1.333,\n          1.075\n        ],\n        \"semantic_type\": \"\",\n        \"description\": \"\"\n      }\n    },\n    {\n      \"column\": \"maxUE_DL\",\n      \"properties\": {\n        \"dtype\": \"number\",\n        \"std\": 1.772483772433203,\n        \"min\": 0.0,\n        \"max\": 12.0,\n        \"num_unique_values\": 13,\n        \"samples\": [\n          11.0,\n          8.0,\n          4.0\n        ],\n        \"semantic_type\": \"\",\n        \"description\": \"\"\n      }\n    },\n    {\n      \"column\": \"maxUE_UL\",\n      \"properties\": {\n        \"dtype\": \"number\",\n        \"std\": 1.3874457058710123,\n        \"min\": 0.0,\n        \"max\": 12.0,\n        \"num_unique_values\": 13,\n        \"samples\": [\n          11.0,\n          10.0,\n          3.0\n        ],\n        \"semantic_type\": \"\",\n        \"description\": \"\"\n      }\n    },\n    {\n      \"column\": \"maxUE_UL+DL\",\n      \"properties\": {\n        \"dtype\": \"category\",\n        \"num_unique_values\": 24,\n        \"samples\": [\n          \"5\",\n          \"15\",\n          \"7\"\n        ],\n        \"semantic_type\": \"\",\n        \"description\": \"\"\n      }\n    },\n    {\n      \"column\": \"Unusual\",\n      \"properties\": {\n        \"dtype\": \"number\",\n        \"std\": 0,\n        \"min\": 0,\n        \"max\": 1,\n        \"num_unique_values\": 2,\n        \"samples\": [\n          0,\n          1\n        ],\n        \"semantic_type\": \"\",\n        \"description\": \"\"\n      }\n    }\n  ]\n}"
            }
          },
          "metadata": {},
          "execution_count": 3
        }
      ]
    },
    {
      "cell_type": "code",
      "source": [
        "df.info()"
      ],
      "metadata": {
        "colab": {
          "base_uri": "https://localhost:8080/"
        },
        "id": "mOLp13tOCavB",
        "outputId": "37d0dc78-9ae0-4471-f42c-34abfb17e784"
      },
      "execution_count": 4,
      "outputs": [
        {
          "output_type": "stream",
          "name": "stdout",
          "text": [
            "<class 'pandas.core.frame.DataFrame'>\n",
            "RangeIndex: 36904 entries, 0 to 36903\n",
            "Data columns (total 14 columns):\n",
            " #   Column       Non-Null Count  Dtype  \n",
            "---  ------       --------------  -----  \n",
            " 0   Time         36904 non-null  object \n",
            " 1   CellName     36904 non-null  object \n",
            " 2   PRBUsageUL   36904 non-null  float64\n",
            " 3   PRBUsageDL   36904 non-null  float64\n",
            " 4   meanThr_DL   36904 non-null  float64\n",
            " 5   meanThr_UL   36904 non-null  float64\n",
            " 6   maxThr_DL    36904 non-null  float64\n",
            " 7   maxThr_UL    36904 non-null  float64\n",
            " 8   meanUE_DL    36904 non-null  float64\n",
            " 9   meanUE_UL    36904 non-null  float64\n",
            " 10  maxUE_DL     36815 non-null  float64\n",
            " 11  maxUE_UL     36815 non-null  float64\n",
            " 12  maxUE_UL+DL  36899 non-null  object \n",
            " 13  Unusual      36904 non-null  int64  \n",
            "dtypes: float64(10), int64(1), object(3)\n",
            "memory usage: 3.9+ MB\n"
          ]
        }
      ]
    },
    {
      "cell_type": "code",
      "source": [
        "df.describe()"
      ],
      "metadata": {
        "colab": {
          "base_uri": "https://localhost:8080/",
          "height": 320
        },
        "id": "FtUhKPCCCjqL",
        "outputId": "e89bf42d-e77e-411e-a3b5-3026eec948ec"
      },
      "execution_count": 5,
      "outputs": [
        {
          "output_type": "execute_result",
          "data": {
            "text/plain": [
              "         PRBUsageUL    PRBUsageDL    meanThr_DL    meanThr_UL     maxThr_DL  \\\n",
              "count  36904.000000  36904.000000  36904.000000  36904.000000  36904.000000   \n",
              "mean       7.835090      2.106396      0.560525      0.067610     17.764369   \n",
              "std        8.428206      2.247514      0.727623      0.186555     15.739932   \n",
              "min        0.000000      0.000000      0.000000      0.000000      0.000000   \n",
              "25%        1.213000      0.707000      0.140000      0.021000      5.710750   \n",
              "50%        4.547000      1.314000      0.352000      0.040000     14.170000   \n",
              "75%       12.126000      2.728000      0.718000      0.075000     25.059500   \n",
              "max       51.333000     77.505000     19.601000     12.461000    140.008000   \n",
              "\n",
              "          maxThr_UL     meanUE_DL     meanUE_UL      maxUE_DL      maxUE_UL  \\\n",
              "count  36904.000000  36904.000000  36904.000000  36815.000000  36815.000000   \n",
              "mean       1.791974      1.173441      0.665143      4.190819      3.063371   \n",
              "std        5.028928      0.214065      0.535493      1.772484      1.387446   \n",
              "min        0.000000      0.000000      0.000000      0.000000      0.000000   \n",
              "25%        0.362000      1.041000      0.010000      3.000000      2.000000   \n",
              "50%        0.703000      1.112000      1.011000      4.000000      3.000000   \n",
              "75%        1.242000      1.263000      1.051000      5.000000      4.000000   \n",
              "max       48.253000      2.915000      2.668000     12.000000     12.000000   \n",
              "\n",
              "            Unusual  \n",
              "count  36904.000000  \n",
              "mean       0.275932  \n",
              "std        0.446989  \n",
              "min        0.000000  \n",
              "25%        0.000000  \n",
              "50%        0.000000  \n",
              "75%        1.000000  \n",
              "max        1.000000  "
            ],
            "text/html": [
              "\n",
              "  <div id=\"df-fab1400e-0619-4b8b-9e54-5088a513f0be\" class=\"colab-df-container\">\n",
              "    <div>\n",
              "<style scoped>\n",
              "    .dataframe tbody tr th:only-of-type {\n",
              "        vertical-align: middle;\n",
              "    }\n",
              "\n",
              "    .dataframe tbody tr th {\n",
              "        vertical-align: top;\n",
              "    }\n",
              "\n",
              "    .dataframe thead th {\n",
              "        text-align: right;\n",
              "    }\n",
              "</style>\n",
              "<table border=\"1\" class=\"dataframe\">\n",
              "  <thead>\n",
              "    <tr style=\"text-align: right;\">\n",
              "      <th></th>\n",
              "      <th>PRBUsageUL</th>\n",
              "      <th>PRBUsageDL</th>\n",
              "      <th>meanThr_DL</th>\n",
              "      <th>meanThr_UL</th>\n",
              "      <th>maxThr_DL</th>\n",
              "      <th>maxThr_UL</th>\n",
              "      <th>meanUE_DL</th>\n",
              "      <th>meanUE_UL</th>\n",
              "      <th>maxUE_DL</th>\n",
              "      <th>maxUE_UL</th>\n",
              "      <th>Unusual</th>\n",
              "    </tr>\n",
              "  </thead>\n",
              "  <tbody>\n",
              "    <tr>\n",
              "      <th>count</th>\n",
              "      <td>36904.000000</td>\n",
              "      <td>36904.000000</td>\n",
              "      <td>36904.000000</td>\n",
              "      <td>36904.000000</td>\n",
              "      <td>36904.000000</td>\n",
              "      <td>36904.000000</td>\n",
              "      <td>36904.000000</td>\n",
              "      <td>36904.000000</td>\n",
              "      <td>36815.000000</td>\n",
              "      <td>36815.000000</td>\n",
              "      <td>36904.000000</td>\n",
              "    </tr>\n",
              "    <tr>\n",
              "      <th>mean</th>\n",
              "      <td>7.835090</td>\n",
              "      <td>2.106396</td>\n",
              "      <td>0.560525</td>\n",
              "      <td>0.067610</td>\n",
              "      <td>17.764369</td>\n",
              "      <td>1.791974</td>\n",
              "      <td>1.173441</td>\n",
              "      <td>0.665143</td>\n",
              "      <td>4.190819</td>\n",
              "      <td>3.063371</td>\n",
              "      <td>0.275932</td>\n",
              "    </tr>\n",
              "    <tr>\n",
              "      <th>std</th>\n",
              "      <td>8.428206</td>\n",
              "      <td>2.247514</td>\n",
              "      <td>0.727623</td>\n",
              "      <td>0.186555</td>\n",
              "      <td>15.739932</td>\n",
              "      <td>5.028928</td>\n",
              "      <td>0.214065</td>\n",
              "      <td>0.535493</td>\n",
              "      <td>1.772484</td>\n",
              "      <td>1.387446</td>\n",
              "      <td>0.446989</td>\n",
              "    </tr>\n",
              "    <tr>\n",
              "      <th>min</th>\n",
              "      <td>0.000000</td>\n",
              "      <td>0.000000</td>\n",
              "      <td>0.000000</td>\n",
              "      <td>0.000000</td>\n",
              "      <td>0.000000</td>\n",
              "      <td>0.000000</td>\n",
              "      <td>0.000000</td>\n",
              "      <td>0.000000</td>\n",
              "      <td>0.000000</td>\n",
              "      <td>0.000000</td>\n",
              "      <td>0.000000</td>\n",
              "    </tr>\n",
              "    <tr>\n",
              "      <th>25%</th>\n",
              "      <td>1.213000</td>\n",
              "      <td>0.707000</td>\n",
              "      <td>0.140000</td>\n",
              "      <td>0.021000</td>\n",
              "      <td>5.710750</td>\n",
              "      <td>0.362000</td>\n",
              "      <td>1.041000</td>\n",
              "      <td>0.010000</td>\n",
              "      <td>3.000000</td>\n",
              "      <td>2.000000</td>\n",
              "      <td>0.000000</td>\n",
              "    </tr>\n",
              "    <tr>\n",
              "      <th>50%</th>\n",
              "      <td>4.547000</td>\n",
              "      <td>1.314000</td>\n",
              "      <td>0.352000</td>\n",
              "      <td>0.040000</td>\n",
              "      <td>14.170000</td>\n",
              "      <td>0.703000</td>\n",
              "      <td>1.112000</td>\n",
              "      <td>1.011000</td>\n",
              "      <td>4.000000</td>\n",
              "      <td>3.000000</td>\n",
              "      <td>0.000000</td>\n",
              "    </tr>\n",
              "    <tr>\n",
              "      <th>75%</th>\n",
              "      <td>12.126000</td>\n",
              "      <td>2.728000</td>\n",
              "      <td>0.718000</td>\n",
              "      <td>0.075000</td>\n",
              "      <td>25.059500</td>\n",
              "      <td>1.242000</td>\n",
              "      <td>1.263000</td>\n",
              "      <td>1.051000</td>\n",
              "      <td>5.000000</td>\n",
              "      <td>4.000000</td>\n",
              "      <td>1.000000</td>\n",
              "    </tr>\n",
              "    <tr>\n",
              "      <th>max</th>\n",
              "      <td>51.333000</td>\n",
              "      <td>77.505000</td>\n",
              "      <td>19.601000</td>\n",
              "      <td>12.461000</td>\n",
              "      <td>140.008000</td>\n",
              "      <td>48.253000</td>\n",
              "      <td>2.915000</td>\n",
              "      <td>2.668000</td>\n",
              "      <td>12.000000</td>\n",
              "      <td>12.000000</td>\n",
              "      <td>1.000000</td>\n",
              "    </tr>\n",
              "  </tbody>\n",
              "</table>\n",
              "</div>\n",
              "    <div class=\"colab-df-buttons\">\n",
              "\n",
              "  <div class=\"colab-df-container\">\n",
              "    <button class=\"colab-df-convert\" onclick=\"convertToInteractive('df-fab1400e-0619-4b8b-9e54-5088a513f0be')\"\n",
              "            title=\"Convert this dataframe to an interactive table.\"\n",
              "            style=\"display:none;\">\n",
              "\n",
              "  <svg xmlns=\"http://www.w3.org/2000/svg\" height=\"24px\" viewBox=\"0 -960 960 960\">\n",
              "    <path d=\"M120-120v-720h720v720H120Zm60-500h600v-160H180v160Zm220 220h160v-160H400v160Zm0 220h160v-160H400v160ZM180-400h160v-160H180v160Zm440 0h160v-160H620v160ZM180-180h160v-160H180v160Zm440 0h160v-160H620v160Z\"/>\n",
              "  </svg>\n",
              "    </button>\n",
              "\n",
              "  <style>\n",
              "    .colab-df-container {\n",
              "      display:flex;\n",
              "      gap: 12px;\n",
              "    }\n",
              "\n",
              "    .colab-df-convert {\n",
              "      background-color: #E8F0FE;\n",
              "      border: none;\n",
              "      border-radius: 50%;\n",
              "      cursor: pointer;\n",
              "      display: none;\n",
              "      fill: #1967D2;\n",
              "      height: 32px;\n",
              "      padding: 0 0 0 0;\n",
              "      width: 32px;\n",
              "    }\n",
              "\n",
              "    .colab-df-convert:hover {\n",
              "      background-color: #E2EBFA;\n",
              "      box-shadow: 0px 1px 2px rgba(60, 64, 67, 0.3), 0px 1px 3px 1px rgba(60, 64, 67, 0.15);\n",
              "      fill: #174EA6;\n",
              "    }\n",
              "\n",
              "    .colab-df-buttons div {\n",
              "      margin-bottom: 4px;\n",
              "    }\n",
              "\n",
              "    [theme=dark] .colab-df-convert {\n",
              "      background-color: #3B4455;\n",
              "      fill: #D2E3FC;\n",
              "    }\n",
              "\n",
              "    [theme=dark] .colab-df-convert:hover {\n",
              "      background-color: #434B5C;\n",
              "      box-shadow: 0px 1px 3px 1px rgba(0, 0, 0, 0.15);\n",
              "      filter: drop-shadow(0px 1px 2px rgba(0, 0, 0, 0.3));\n",
              "      fill: #FFFFFF;\n",
              "    }\n",
              "  </style>\n",
              "\n",
              "    <script>\n",
              "      const buttonEl =\n",
              "        document.querySelector('#df-fab1400e-0619-4b8b-9e54-5088a513f0be button.colab-df-convert');\n",
              "      buttonEl.style.display =\n",
              "        google.colab.kernel.accessAllowed ? 'block' : 'none';\n",
              "\n",
              "      async function convertToInteractive(key) {\n",
              "        const element = document.querySelector('#df-fab1400e-0619-4b8b-9e54-5088a513f0be');\n",
              "        const dataTable =\n",
              "          await google.colab.kernel.invokeFunction('convertToInteractive',\n",
              "                                                    [key], {});\n",
              "        if (!dataTable) return;\n",
              "\n",
              "        const docLinkHtml = 'Like what you see? Visit the ' +\n",
              "          '<a target=\"_blank\" href=https://colab.research.google.com/notebooks/data_table.ipynb>data table notebook</a>'\n",
              "          + ' to learn more about interactive tables.';\n",
              "        element.innerHTML = '';\n",
              "        dataTable['output_type'] = 'display_data';\n",
              "        await google.colab.output.renderOutput(dataTable, element);\n",
              "        const docLink = document.createElement('div');\n",
              "        docLink.innerHTML = docLinkHtml;\n",
              "        element.appendChild(docLink);\n",
              "      }\n",
              "    </script>\n",
              "  </div>\n",
              "\n",
              "\n",
              "<div id=\"df-1b7511ed-4edb-4d8f-b371-4ac0c7451a33\">\n",
              "  <button class=\"colab-df-quickchart\" onclick=\"quickchart('df-1b7511ed-4edb-4d8f-b371-4ac0c7451a33')\"\n",
              "            title=\"Suggest charts\"\n",
              "            style=\"display:none;\">\n",
              "\n",
              "<svg xmlns=\"http://www.w3.org/2000/svg\" height=\"24px\"viewBox=\"0 0 24 24\"\n",
              "     width=\"24px\">\n",
              "    <g>\n",
              "        <path d=\"M19 3H5c-1.1 0-2 .9-2 2v14c0 1.1.9 2 2 2h14c1.1 0 2-.9 2-2V5c0-1.1-.9-2-2-2zM9 17H7v-7h2v7zm4 0h-2V7h2v10zm4 0h-2v-4h2v4z\"/>\n",
              "    </g>\n",
              "</svg>\n",
              "  </button>\n",
              "\n",
              "<style>\n",
              "  .colab-df-quickchart {\n",
              "      --bg-color: #E8F0FE;\n",
              "      --fill-color: #1967D2;\n",
              "      --hover-bg-color: #E2EBFA;\n",
              "      --hover-fill-color: #174EA6;\n",
              "      --disabled-fill-color: #AAA;\n",
              "      --disabled-bg-color: #DDD;\n",
              "  }\n",
              "\n",
              "  [theme=dark] .colab-df-quickchart {\n",
              "      --bg-color: #3B4455;\n",
              "      --fill-color: #D2E3FC;\n",
              "      --hover-bg-color: #434B5C;\n",
              "      --hover-fill-color: #FFFFFF;\n",
              "      --disabled-bg-color: #3B4455;\n",
              "      --disabled-fill-color: #666;\n",
              "  }\n",
              "\n",
              "  .colab-df-quickchart {\n",
              "    background-color: var(--bg-color);\n",
              "    border: none;\n",
              "    border-radius: 50%;\n",
              "    cursor: pointer;\n",
              "    display: none;\n",
              "    fill: var(--fill-color);\n",
              "    height: 32px;\n",
              "    padding: 0;\n",
              "    width: 32px;\n",
              "  }\n",
              "\n",
              "  .colab-df-quickchart:hover {\n",
              "    background-color: var(--hover-bg-color);\n",
              "    box-shadow: 0 1px 2px rgba(60, 64, 67, 0.3), 0 1px 3px 1px rgba(60, 64, 67, 0.15);\n",
              "    fill: var(--button-hover-fill-color);\n",
              "  }\n",
              "\n",
              "  .colab-df-quickchart-complete:disabled,\n",
              "  .colab-df-quickchart-complete:disabled:hover {\n",
              "    background-color: var(--disabled-bg-color);\n",
              "    fill: var(--disabled-fill-color);\n",
              "    box-shadow: none;\n",
              "  }\n",
              "\n",
              "  .colab-df-spinner {\n",
              "    border: 2px solid var(--fill-color);\n",
              "    border-color: transparent;\n",
              "    border-bottom-color: var(--fill-color);\n",
              "    animation:\n",
              "      spin 1s steps(1) infinite;\n",
              "  }\n",
              "\n",
              "  @keyframes spin {\n",
              "    0% {\n",
              "      border-color: transparent;\n",
              "      border-bottom-color: var(--fill-color);\n",
              "      border-left-color: var(--fill-color);\n",
              "    }\n",
              "    20% {\n",
              "      border-color: transparent;\n",
              "      border-left-color: var(--fill-color);\n",
              "      border-top-color: var(--fill-color);\n",
              "    }\n",
              "    30% {\n",
              "      border-color: transparent;\n",
              "      border-left-color: var(--fill-color);\n",
              "      border-top-color: var(--fill-color);\n",
              "      border-right-color: var(--fill-color);\n",
              "    }\n",
              "    40% {\n",
              "      border-color: transparent;\n",
              "      border-right-color: var(--fill-color);\n",
              "      border-top-color: var(--fill-color);\n",
              "    }\n",
              "    60% {\n",
              "      border-color: transparent;\n",
              "      border-right-color: var(--fill-color);\n",
              "    }\n",
              "    80% {\n",
              "      border-color: transparent;\n",
              "      border-right-color: var(--fill-color);\n",
              "      border-bottom-color: var(--fill-color);\n",
              "    }\n",
              "    90% {\n",
              "      border-color: transparent;\n",
              "      border-bottom-color: var(--fill-color);\n",
              "    }\n",
              "  }\n",
              "</style>\n",
              "\n",
              "  <script>\n",
              "    async function quickchart(key) {\n",
              "      const quickchartButtonEl =\n",
              "        document.querySelector('#' + key + ' button');\n",
              "      quickchartButtonEl.disabled = true;  // To prevent multiple clicks.\n",
              "      quickchartButtonEl.classList.add('colab-df-spinner');\n",
              "      try {\n",
              "        const charts = await google.colab.kernel.invokeFunction(\n",
              "            'suggestCharts', [key], {});\n",
              "      } catch (error) {\n",
              "        console.error('Error during call to suggestCharts:', error);\n",
              "      }\n",
              "      quickchartButtonEl.classList.remove('colab-df-spinner');\n",
              "      quickchartButtonEl.classList.add('colab-df-quickchart-complete');\n",
              "    }\n",
              "    (() => {\n",
              "      let quickchartButtonEl =\n",
              "        document.querySelector('#df-1b7511ed-4edb-4d8f-b371-4ac0c7451a33 button');\n",
              "      quickchartButtonEl.style.display =\n",
              "        google.colab.kernel.accessAllowed ? 'block' : 'none';\n",
              "    })();\n",
              "  </script>\n",
              "</div>\n",
              "    </div>\n",
              "  </div>\n"
            ],
            "application/vnd.google.colaboratory.intrinsic+json": {
              "type": "dataframe",
              "summary": "{\n  \"name\": \"df\",\n  \"rows\": 8,\n  \"fields\": [\n    {\n      \"column\": \"PRBUsageUL\",\n      \"properties\": {\n        \"dtype\": \"number\",\n        \"std\": 13043.22718408461,\n        \"min\": 0.0,\n        \"max\": 36904.0,\n        \"num_unique_values\": 8,\n        \"samples\": [\n          7.835089529590287,\n          4.547,\n          36904.0\n        ],\n        \"semantic_type\": \"\",\n        \"description\": \"\"\n      }\n    },\n    {\n      \"column\": \"PRBUsageDL\",\n      \"properties\": {\n        \"dtype\": \"number\",\n        \"std\": 13043.187099471243,\n        \"min\": 0.0,\n        \"max\": 36904.0,\n        \"num_unique_values\": 8,\n        \"samples\": [\n          2.106396163017559,\n          1.314,\n          36904.0\n        ],\n        \"semantic_type\": \"\",\n        \"description\": \"\"\n      }\n    },\n    {\n      \"column\": \"meanThr_DL\",\n      \"properties\": {\n        \"dtype\": \"number\",\n        \"std\": 13046.419880686775,\n        \"min\": 0.0,\n        \"max\": 36904.0,\n        \"num_unique_values\": 8,\n        \"samples\": [\n          0.560524550184262,\n          0.352,\n          36904.0\n        ],\n        \"semantic_type\": \"\",\n        \"description\": \"\"\n      }\n    },\n    {\n      \"column\": \"meanThr_UL\",\n      \"properties\": {\n        \"dtype\": \"number\",\n        \"std\": 13046.885965811927,\n        \"min\": 0.0,\n        \"max\": 36904.0,\n        \"num_unique_values\": 8,\n        \"samples\": [\n          0.067609717103837,\n          0.04,\n          36904.0\n        ],\n        \"semantic_type\": \"\",\n        \"description\": \"\"\n      }\n    },\n    {\n      \"column\": \"maxThr_DL\",\n      \"properties\": {\n        \"dtype\": \"number\",\n        \"std\": 13036.578662201047,\n        \"min\": 0.0,\n        \"max\": 36904.0,\n        \"num_unique_values\": 8,\n        \"samples\": [\n          17.764368903099935,\n          14.17,\n          36904.0\n        ],\n        \"semantic_type\": \"\",\n        \"description\": \"\"\n      }\n    },\n    {\n      \"column\": \"maxThr_UL\",\n      \"properties\": {\n        \"dtype\": \"number\",\n        \"std\": 13044.646494910488,\n        \"min\": 0.0,\n        \"max\": 36904.0,\n        \"num_unique_values\": 8,\n        \"samples\": [\n          1.791974447214394,\n          0.703,\n          36904.0\n        ],\n        \"semantic_type\": \"\",\n        \"description\": \"\"\n      }\n    },\n    {\n      \"column\": \"meanUE_DL\",\n      \"properties\": {\n        \"dtype\": \"number\",\n        \"std\": 13047.144512200635,\n        \"min\": 0.0,\n        \"max\": 36904.0,\n        \"num_unique_values\": 8,\n        \"samples\": [\n          1.173441009104704,\n          1.112,\n          36904.0\n        ],\n        \"semantic_type\": \"\",\n        \"description\": \"\"\n      }\n    },\n    {\n      \"column\": \"meanUE_UL\",\n      \"properties\": {\n        \"dtype\": \"number\",\n        \"std\": 13047.234306024917,\n        \"min\": 0.0,\n        \"max\": 36904.0,\n        \"num_unique_values\": 8,\n        \"samples\": [\n          0.6651429113375242,\n          1.011,\n          36904.0\n        ],\n        \"semantic_type\": \"\",\n        \"description\": \"\"\n      }\n    },\n    {\n      \"column\": \"maxUE_DL\",\n      \"properties\": {\n        \"dtype\": \"number\",\n        \"std\": 13014.555173822022,\n        \"min\": 0.0,\n        \"max\": 36815.0,\n        \"num_unique_values\": 8,\n        \"samples\": [\n          4.190818959663181,\n          4.0,\n          36815.0\n        ],\n        \"semantic_type\": \"\",\n        \"description\": \"\"\n      }\n    },\n    {\n      \"column\": \"maxUE_UL\",\n      \"properties\": {\n        \"dtype\": \"number\",\n        \"std\": 13014.78311801525,\n        \"min\": 0.0,\n        \"max\": 36815.0,\n        \"num_unique_values\": 8,\n        \"samples\": [\n          3.0633709085970393,\n          3.0,\n          36815.0\n        ],\n        \"semantic_type\": \"\",\n        \"description\": \"\"\n      }\n    },\n    {\n      \"column\": \"Unusual\",\n      \"properties\": {\n        \"dtype\": \"number\",\n        \"std\": 13047.396804837728,\n        \"min\": 0.0,\n        \"max\": 36904.0,\n        \"num_unique_values\": 5,\n        \"samples\": [\n          0.27593214827660956,\n          1.0,\n          0.44698882742697954\n        ],\n        \"semantic_type\": \"\",\n        \"description\": \"\"\n      }\n    }\n  ]\n}"
            }
          },
          "metadata": {},
          "execution_count": 5
        }
      ]
    },
    {
      "cell_type": "code",
      "source": [
        "df.isnull().sum()"
      ],
      "metadata": {
        "colab": {
          "base_uri": "https://localhost:8080/"
        },
        "id": "ZiYHxWPPC1PT",
        "outputId": "48c7af54-88cf-4d47-d0e8-3d0007a830f4"
      },
      "execution_count": 6,
      "outputs": [
        {
          "output_type": "execute_result",
          "data": {
            "text/plain": [
              "Time            0\n",
              "CellName        0\n",
              "PRBUsageUL      0\n",
              "PRBUsageDL      0\n",
              "meanThr_DL      0\n",
              "meanThr_UL      0\n",
              "maxThr_DL       0\n",
              "maxThr_UL       0\n",
              "meanUE_DL       0\n",
              "meanUE_UL       0\n",
              "maxUE_DL       89\n",
              "maxUE_UL       89\n",
              "maxUE_UL+DL     5\n",
              "Unusual         0\n",
              "dtype: int64"
            ]
          },
          "metadata": {},
          "execution_count": 6
        }
      ]
    },
    {
      "cell_type": "markdown",
      "source": [
        "####As shown *maxUE_DL*, *max_UE_UL* and *max_UE_UL+DL* have null values. Lets examime what kind of null values it have."
      ],
      "metadata": {
        "id": "3sig2V39YXmF"
      }
    },
    {
      "cell_type": "code",
      "source": [
        "null_UL = pd.isnull(df[\"maxUE_UL\"])\n",
        "df[null_UL]"
      ],
      "metadata": {
        "colab": {
          "base_uri": "https://localhost:8080/",
          "height": 443
        },
        "id": "-r_15k3JE14J",
        "outputId": "ded32ecf-149b-42b1-b01c-520d417df185"
      },
      "execution_count": 7,
      "outputs": [
        {
          "output_type": "execute_result",
          "data": {
            "text/plain": [
              "        Time CellName  PRBUsageUL  PRBUsageDL  meanThr_DL  meanThr_UL  \\\n",
              "51     16:15    6ALTE      13.743       4.042       2.113       0.100   \n",
              "1290   14:30    3BLTE      22.837       2.324       0.500       0.090   \n",
              "2082    6:15    7ULTE       0.199       1.791       0.693       0.032   \n",
              "2842   16:15    5ALTE       9.903       1.516       0.466       0.032   \n",
              "3384   16:15    7CLTE       0.404       0.909       0.216       0.042   \n",
              "...      ...      ...         ...         ...         ...         ...   \n",
              "36036   6:00    9BLTE       1.516       0.505       0.078       0.013   \n",
              "36046  13:00    3CLTE      15.360       2.829       1.149       0.071   \n",
              "36317  13:00    1ALTE      30.921       4.042       1.450       0.175   \n",
              "36652   8:00    7VLTE       0.606       1.819       0.255       0.027   \n",
              "36687   8:00    7ULTE       1.011       2.021       0.310       0.042   \n",
              "\n",
              "       maxThr_DL  maxThr_UL  meanUE_DL  meanUE_UL  maxUE_DL  maxUE_UL  \\\n",
              "51        44.483      1.110        0.0        0.0       NaN       NaN   \n",
              "1290      24.374      0.847        0.0        0.0       NaN       NaN   \n",
              "2082      15.634      0.353        0.0        0.0       NaN       NaN   \n",
              "2842      24.576      0.931        0.0        0.0       NaN       NaN   \n",
              "3384       9.730      2.714        0.0        0.0       NaN       NaN   \n",
              "...          ...        ...        ...        ...       ...       ...   \n",
              "36036      1.298      0.267        0.0        0.0       NaN       NaN   \n",
              "36046     39.615      0.947        0.0        0.0       NaN       NaN   \n",
              "36317     26.369      1.487        0.0        0.0       NaN       NaN   \n",
              "36652     14.546      0.820        0.0        0.0       NaN       NaN   \n",
              "36687     17.361      2.394        0.0        0.0       NaN       NaN   \n",
              "\n",
              "      maxUE_UL+DL  Unusual  \n",
              "51       #¡VALOR!        0  \n",
              "1290     #¡VALOR!        0  \n",
              "2082     #¡VALOR!        1  \n",
              "2842     #¡VALOR!        0  \n",
              "3384     #¡VALOR!        0  \n",
              "...           ...      ...  \n",
              "36036    #¡VALOR!        0  \n",
              "36046    #¡VALOR!        0  \n",
              "36317    #¡VALOR!        0  \n",
              "36652    #¡VALOR!        0  \n",
              "36687    #¡VALOR!        0  \n",
              "\n",
              "[89 rows x 14 columns]"
            ],
            "text/html": [
              "\n",
              "  <div id=\"df-37dc5d55-e95f-4769-ab84-ff783a9ee0f0\" class=\"colab-df-container\">\n",
              "    <div>\n",
              "<style scoped>\n",
              "    .dataframe tbody tr th:only-of-type {\n",
              "        vertical-align: middle;\n",
              "    }\n",
              "\n",
              "    .dataframe tbody tr th {\n",
              "        vertical-align: top;\n",
              "    }\n",
              "\n",
              "    .dataframe thead th {\n",
              "        text-align: right;\n",
              "    }\n",
              "</style>\n",
              "<table border=\"1\" class=\"dataframe\">\n",
              "  <thead>\n",
              "    <tr style=\"text-align: right;\">\n",
              "      <th></th>\n",
              "      <th>Time</th>\n",
              "      <th>CellName</th>\n",
              "      <th>PRBUsageUL</th>\n",
              "      <th>PRBUsageDL</th>\n",
              "      <th>meanThr_DL</th>\n",
              "      <th>meanThr_UL</th>\n",
              "      <th>maxThr_DL</th>\n",
              "      <th>maxThr_UL</th>\n",
              "      <th>meanUE_DL</th>\n",
              "      <th>meanUE_UL</th>\n",
              "      <th>maxUE_DL</th>\n",
              "      <th>maxUE_UL</th>\n",
              "      <th>maxUE_UL+DL</th>\n",
              "      <th>Unusual</th>\n",
              "    </tr>\n",
              "  </thead>\n",
              "  <tbody>\n",
              "    <tr>\n",
              "      <th>51</th>\n",
              "      <td>16:15</td>\n",
              "      <td>6ALTE</td>\n",
              "      <td>13.743</td>\n",
              "      <td>4.042</td>\n",
              "      <td>2.113</td>\n",
              "      <td>0.100</td>\n",
              "      <td>44.483</td>\n",
              "      <td>1.110</td>\n",
              "      <td>0.0</td>\n",
              "      <td>0.0</td>\n",
              "      <td>NaN</td>\n",
              "      <td>NaN</td>\n",
              "      <td>#¡VALOR!</td>\n",
              "      <td>0</td>\n",
              "    </tr>\n",
              "    <tr>\n",
              "      <th>1290</th>\n",
              "      <td>14:30</td>\n",
              "      <td>3BLTE</td>\n",
              "      <td>22.837</td>\n",
              "      <td>2.324</td>\n",
              "      <td>0.500</td>\n",
              "      <td>0.090</td>\n",
              "      <td>24.374</td>\n",
              "      <td>0.847</td>\n",
              "      <td>0.0</td>\n",
              "      <td>0.0</td>\n",
              "      <td>NaN</td>\n",
              "      <td>NaN</td>\n",
              "      <td>#¡VALOR!</td>\n",
              "      <td>0</td>\n",
              "    </tr>\n",
              "    <tr>\n",
              "      <th>2082</th>\n",
              "      <td>6:15</td>\n",
              "      <td>7ULTE</td>\n",
              "      <td>0.199</td>\n",
              "      <td>1.791</td>\n",
              "      <td>0.693</td>\n",
              "      <td>0.032</td>\n",
              "      <td>15.634</td>\n",
              "      <td>0.353</td>\n",
              "      <td>0.0</td>\n",
              "      <td>0.0</td>\n",
              "      <td>NaN</td>\n",
              "      <td>NaN</td>\n",
              "      <td>#¡VALOR!</td>\n",
              "      <td>1</td>\n",
              "    </tr>\n",
              "    <tr>\n",
              "      <th>2842</th>\n",
              "      <td>16:15</td>\n",
              "      <td>5ALTE</td>\n",
              "      <td>9.903</td>\n",
              "      <td>1.516</td>\n",
              "      <td>0.466</td>\n",
              "      <td>0.032</td>\n",
              "      <td>24.576</td>\n",
              "      <td>0.931</td>\n",
              "      <td>0.0</td>\n",
              "      <td>0.0</td>\n",
              "      <td>NaN</td>\n",
              "      <td>NaN</td>\n",
              "      <td>#¡VALOR!</td>\n",
              "      <td>0</td>\n",
              "    </tr>\n",
              "    <tr>\n",
              "      <th>3384</th>\n",
              "      <td>16:15</td>\n",
              "      <td>7CLTE</td>\n",
              "      <td>0.404</td>\n",
              "      <td>0.909</td>\n",
              "      <td>0.216</td>\n",
              "      <td>0.042</td>\n",
              "      <td>9.730</td>\n",
              "      <td>2.714</td>\n",
              "      <td>0.0</td>\n",
              "      <td>0.0</td>\n",
              "      <td>NaN</td>\n",
              "      <td>NaN</td>\n",
              "      <td>#¡VALOR!</td>\n",
              "      <td>0</td>\n",
              "    </tr>\n",
              "    <tr>\n",
              "      <th>...</th>\n",
              "      <td>...</td>\n",
              "      <td>...</td>\n",
              "      <td>...</td>\n",
              "      <td>...</td>\n",
              "      <td>...</td>\n",
              "      <td>...</td>\n",
              "      <td>...</td>\n",
              "      <td>...</td>\n",
              "      <td>...</td>\n",
              "      <td>...</td>\n",
              "      <td>...</td>\n",
              "      <td>...</td>\n",
              "      <td>...</td>\n",
              "      <td>...</td>\n",
              "    </tr>\n",
              "    <tr>\n",
              "      <th>36036</th>\n",
              "      <td>6:00</td>\n",
              "      <td>9BLTE</td>\n",
              "      <td>1.516</td>\n",
              "      <td>0.505</td>\n",
              "      <td>0.078</td>\n",
              "      <td>0.013</td>\n",
              "      <td>1.298</td>\n",
              "      <td>0.267</td>\n",
              "      <td>0.0</td>\n",
              "      <td>0.0</td>\n",
              "      <td>NaN</td>\n",
              "      <td>NaN</td>\n",
              "      <td>#¡VALOR!</td>\n",
              "      <td>0</td>\n",
              "    </tr>\n",
              "    <tr>\n",
              "      <th>36046</th>\n",
              "      <td>13:00</td>\n",
              "      <td>3CLTE</td>\n",
              "      <td>15.360</td>\n",
              "      <td>2.829</td>\n",
              "      <td>1.149</td>\n",
              "      <td>0.071</td>\n",
              "      <td>39.615</td>\n",
              "      <td>0.947</td>\n",
              "      <td>0.0</td>\n",
              "      <td>0.0</td>\n",
              "      <td>NaN</td>\n",
              "      <td>NaN</td>\n",
              "      <td>#¡VALOR!</td>\n",
              "      <td>0</td>\n",
              "    </tr>\n",
              "    <tr>\n",
              "      <th>36317</th>\n",
              "      <td>13:00</td>\n",
              "      <td>1ALTE</td>\n",
              "      <td>30.921</td>\n",
              "      <td>4.042</td>\n",
              "      <td>1.450</td>\n",
              "      <td>0.175</td>\n",
              "      <td>26.369</td>\n",
              "      <td>1.487</td>\n",
              "      <td>0.0</td>\n",
              "      <td>0.0</td>\n",
              "      <td>NaN</td>\n",
              "      <td>NaN</td>\n",
              "      <td>#¡VALOR!</td>\n",
              "      <td>0</td>\n",
              "    </tr>\n",
              "    <tr>\n",
              "      <th>36652</th>\n",
              "      <td>8:00</td>\n",
              "      <td>7VLTE</td>\n",
              "      <td>0.606</td>\n",
              "      <td>1.819</td>\n",
              "      <td>0.255</td>\n",
              "      <td>0.027</td>\n",
              "      <td>14.546</td>\n",
              "      <td>0.820</td>\n",
              "      <td>0.0</td>\n",
              "      <td>0.0</td>\n",
              "      <td>NaN</td>\n",
              "      <td>NaN</td>\n",
              "      <td>#¡VALOR!</td>\n",
              "      <td>0</td>\n",
              "    </tr>\n",
              "    <tr>\n",
              "      <th>36687</th>\n",
              "      <td>8:00</td>\n",
              "      <td>7ULTE</td>\n",
              "      <td>1.011</td>\n",
              "      <td>2.021</td>\n",
              "      <td>0.310</td>\n",
              "      <td>0.042</td>\n",
              "      <td>17.361</td>\n",
              "      <td>2.394</td>\n",
              "      <td>0.0</td>\n",
              "      <td>0.0</td>\n",
              "      <td>NaN</td>\n",
              "      <td>NaN</td>\n",
              "      <td>#¡VALOR!</td>\n",
              "      <td>0</td>\n",
              "    </tr>\n",
              "  </tbody>\n",
              "</table>\n",
              "<p>89 rows × 14 columns</p>\n",
              "</div>\n",
              "    <div class=\"colab-df-buttons\">\n",
              "\n",
              "  <div class=\"colab-df-container\">\n",
              "    <button class=\"colab-df-convert\" onclick=\"convertToInteractive('df-37dc5d55-e95f-4769-ab84-ff783a9ee0f0')\"\n",
              "            title=\"Convert this dataframe to an interactive table.\"\n",
              "            style=\"display:none;\">\n",
              "\n",
              "  <svg xmlns=\"http://www.w3.org/2000/svg\" height=\"24px\" viewBox=\"0 -960 960 960\">\n",
              "    <path d=\"M120-120v-720h720v720H120Zm60-500h600v-160H180v160Zm220 220h160v-160H400v160Zm0 220h160v-160H400v160ZM180-400h160v-160H180v160Zm440 0h160v-160H620v160ZM180-180h160v-160H180v160Zm440 0h160v-160H620v160Z\"/>\n",
              "  </svg>\n",
              "    </button>\n",
              "\n",
              "  <style>\n",
              "    .colab-df-container {\n",
              "      display:flex;\n",
              "      gap: 12px;\n",
              "    }\n",
              "\n",
              "    .colab-df-convert {\n",
              "      background-color: #E8F0FE;\n",
              "      border: none;\n",
              "      border-radius: 50%;\n",
              "      cursor: pointer;\n",
              "      display: none;\n",
              "      fill: #1967D2;\n",
              "      height: 32px;\n",
              "      padding: 0 0 0 0;\n",
              "      width: 32px;\n",
              "    }\n",
              "\n",
              "    .colab-df-convert:hover {\n",
              "      background-color: #E2EBFA;\n",
              "      box-shadow: 0px 1px 2px rgba(60, 64, 67, 0.3), 0px 1px 3px 1px rgba(60, 64, 67, 0.15);\n",
              "      fill: #174EA6;\n",
              "    }\n",
              "\n",
              "    .colab-df-buttons div {\n",
              "      margin-bottom: 4px;\n",
              "    }\n",
              "\n",
              "    [theme=dark] .colab-df-convert {\n",
              "      background-color: #3B4455;\n",
              "      fill: #D2E3FC;\n",
              "    }\n",
              "\n",
              "    [theme=dark] .colab-df-convert:hover {\n",
              "      background-color: #434B5C;\n",
              "      box-shadow: 0px 1px 3px 1px rgba(0, 0, 0, 0.15);\n",
              "      filter: drop-shadow(0px 1px 2px rgba(0, 0, 0, 0.3));\n",
              "      fill: #FFFFFF;\n",
              "    }\n",
              "  </style>\n",
              "\n",
              "    <script>\n",
              "      const buttonEl =\n",
              "        document.querySelector('#df-37dc5d55-e95f-4769-ab84-ff783a9ee0f0 button.colab-df-convert');\n",
              "      buttonEl.style.display =\n",
              "        google.colab.kernel.accessAllowed ? 'block' : 'none';\n",
              "\n",
              "      async function convertToInteractive(key) {\n",
              "        const element = document.querySelector('#df-37dc5d55-e95f-4769-ab84-ff783a9ee0f0');\n",
              "        const dataTable =\n",
              "          await google.colab.kernel.invokeFunction('convertToInteractive',\n",
              "                                                    [key], {});\n",
              "        if (!dataTable) return;\n",
              "\n",
              "        const docLinkHtml = 'Like what you see? Visit the ' +\n",
              "          '<a target=\"_blank\" href=https://colab.research.google.com/notebooks/data_table.ipynb>data table notebook</a>'\n",
              "          + ' to learn more about interactive tables.';\n",
              "        element.innerHTML = '';\n",
              "        dataTable['output_type'] = 'display_data';\n",
              "        await google.colab.output.renderOutput(dataTable, element);\n",
              "        const docLink = document.createElement('div');\n",
              "        docLink.innerHTML = docLinkHtml;\n",
              "        element.appendChild(docLink);\n",
              "      }\n",
              "    </script>\n",
              "  </div>\n",
              "\n",
              "\n",
              "<div id=\"df-de84706b-491c-4b33-800e-db69c74d9bf8\">\n",
              "  <button class=\"colab-df-quickchart\" onclick=\"quickchart('df-de84706b-491c-4b33-800e-db69c74d9bf8')\"\n",
              "            title=\"Suggest charts\"\n",
              "            style=\"display:none;\">\n",
              "\n",
              "<svg xmlns=\"http://www.w3.org/2000/svg\" height=\"24px\"viewBox=\"0 0 24 24\"\n",
              "     width=\"24px\">\n",
              "    <g>\n",
              "        <path d=\"M19 3H5c-1.1 0-2 .9-2 2v14c0 1.1.9 2 2 2h14c1.1 0 2-.9 2-2V5c0-1.1-.9-2-2-2zM9 17H7v-7h2v7zm4 0h-2V7h2v10zm4 0h-2v-4h2v4z\"/>\n",
              "    </g>\n",
              "</svg>\n",
              "  </button>\n",
              "\n",
              "<style>\n",
              "  .colab-df-quickchart {\n",
              "      --bg-color: #E8F0FE;\n",
              "      --fill-color: #1967D2;\n",
              "      --hover-bg-color: #E2EBFA;\n",
              "      --hover-fill-color: #174EA6;\n",
              "      --disabled-fill-color: #AAA;\n",
              "      --disabled-bg-color: #DDD;\n",
              "  }\n",
              "\n",
              "  [theme=dark] .colab-df-quickchart {\n",
              "      --bg-color: #3B4455;\n",
              "      --fill-color: #D2E3FC;\n",
              "      --hover-bg-color: #434B5C;\n",
              "      --hover-fill-color: #FFFFFF;\n",
              "      --disabled-bg-color: #3B4455;\n",
              "      --disabled-fill-color: #666;\n",
              "  }\n",
              "\n",
              "  .colab-df-quickchart {\n",
              "    background-color: var(--bg-color);\n",
              "    border: none;\n",
              "    border-radius: 50%;\n",
              "    cursor: pointer;\n",
              "    display: none;\n",
              "    fill: var(--fill-color);\n",
              "    height: 32px;\n",
              "    padding: 0;\n",
              "    width: 32px;\n",
              "  }\n",
              "\n",
              "  .colab-df-quickchart:hover {\n",
              "    background-color: var(--hover-bg-color);\n",
              "    box-shadow: 0 1px 2px rgba(60, 64, 67, 0.3), 0 1px 3px 1px rgba(60, 64, 67, 0.15);\n",
              "    fill: var(--button-hover-fill-color);\n",
              "  }\n",
              "\n",
              "  .colab-df-quickchart-complete:disabled,\n",
              "  .colab-df-quickchart-complete:disabled:hover {\n",
              "    background-color: var(--disabled-bg-color);\n",
              "    fill: var(--disabled-fill-color);\n",
              "    box-shadow: none;\n",
              "  }\n",
              "\n",
              "  .colab-df-spinner {\n",
              "    border: 2px solid var(--fill-color);\n",
              "    border-color: transparent;\n",
              "    border-bottom-color: var(--fill-color);\n",
              "    animation:\n",
              "      spin 1s steps(1) infinite;\n",
              "  }\n",
              "\n",
              "  @keyframes spin {\n",
              "    0% {\n",
              "      border-color: transparent;\n",
              "      border-bottom-color: var(--fill-color);\n",
              "      border-left-color: var(--fill-color);\n",
              "    }\n",
              "    20% {\n",
              "      border-color: transparent;\n",
              "      border-left-color: var(--fill-color);\n",
              "      border-top-color: var(--fill-color);\n",
              "    }\n",
              "    30% {\n",
              "      border-color: transparent;\n",
              "      border-left-color: var(--fill-color);\n",
              "      border-top-color: var(--fill-color);\n",
              "      border-right-color: var(--fill-color);\n",
              "    }\n",
              "    40% {\n",
              "      border-color: transparent;\n",
              "      border-right-color: var(--fill-color);\n",
              "      border-top-color: var(--fill-color);\n",
              "    }\n",
              "    60% {\n",
              "      border-color: transparent;\n",
              "      border-right-color: var(--fill-color);\n",
              "    }\n",
              "    80% {\n",
              "      border-color: transparent;\n",
              "      border-right-color: var(--fill-color);\n",
              "      border-bottom-color: var(--fill-color);\n",
              "    }\n",
              "    90% {\n",
              "      border-color: transparent;\n",
              "      border-bottom-color: var(--fill-color);\n",
              "    }\n",
              "  }\n",
              "</style>\n",
              "\n",
              "  <script>\n",
              "    async function quickchart(key) {\n",
              "      const quickchartButtonEl =\n",
              "        document.querySelector('#' + key + ' button');\n",
              "      quickchartButtonEl.disabled = true;  // To prevent multiple clicks.\n",
              "      quickchartButtonEl.classList.add('colab-df-spinner');\n",
              "      try {\n",
              "        const charts = await google.colab.kernel.invokeFunction(\n",
              "            'suggestCharts', [key], {});\n",
              "      } catch (error) {\n",
              "        console.error('Error during call to suggestCharts:', error);\n",
              "      }\n",
              "      quickchartButtonEl.classList.remove('colab-df-spinner');\n",
              "      quickchartButtonEl.classList.add('colab-df-quickchart-complete');\n",
              "    }\n",
              "    (() => {\n",
              "      let quickchartButtonEl =\n",
              "        document.querySelector('#df-de84706b-491c-4b33-800e-db69c74d9bf8 button');\n",
              "      quickchartButtonEl.style.display =\n",
              "        google.colab.kernel.accessAllowed ? 'block' : 'none';\n",
              "    })();\n",
              "  </script>\n",
              "</div>\n",
              "    </div>\n",
              "  </div>\n"
            ],
            "application/vnd.google.colaboratory.intrinsic+json": {
              "type": "dataframe",
              "repr_error": "0"
            }
          },
          "metadata": {},
          "execution_count": 7
        }
      ]
    },
    {
      "cell_type": "code",
      "source": [
        "df['maxUE_UL+DL'].unique()"
      ],
      "metadata": {
        "colab": {
          "base_uri": "https://localhost:8080/"
        },
        "id": "Gao_eLeIEuxO",
        "outputId": "d444944f-8bc8-4a31-c669-3f03c1c799cc"
      },
      "execution_count": 8,
      "outputs": [
        {
          "output_type": "execute_result",
          "data": {
            "text/plain": [
              "array(['7', '10', '2', '4', '3', '11', '6', '8', '5', '9', '12',\n",
              "       '#¡VALOR!', '14', '17', '0', '13', '15', '16', '18', '19', '1',\n",
              "       '20', '23', nan, '21'], dtype=object)"
            ]
          },
          "metadata": {},
          "execution_count": 8
        }
      ]
    },
    {
      "cell_type": "markdown",
      "source": [
        "####This shows *maxUE_UL+DL* has wiered `#¡VALOR!` value.\n",
        "\n",
        "####The mean value for user equipment (UE) data are available, so it is fine to not consider these columns."
      ],
      "metadata": {
        "id": "IU4O6Uy6ZNhp"
      }
    },
    {
      "cell_type": "markdown",
      "source": [
        "#Feature selection"
      ],
      "metadata": {
        "id": "_UbyxsafeVCU"
      }
    },
    {
      "cell_type": "code",
      "source": [
        " # import file in new dataframe to start clean\n",
        "data = pd.read_csv('/content/drive/MyDrive/cellular_anamoly_dataset/ML-MATT-CompetitionQT1920_train.csv', encoding='windows-1252')"
      ],
      "metadata": {
        "id": "NK8M4O9dQLdE"
      },
      "execution_count": 9,
      "outputs": []
    },
    {
      "cell_type": "markdown",
      "source": [
        "###`Time` column is in date-time format. Instead to use it as feature the hour of the day is fine for this purpose. Doing this the values of `Time` column has become numeric now that helps out cause."
      ],
      "metadata": {
        "id": "NSFzbATFebLE"
      }
    },
    {
      "cell_type": "code",
      "source": [
        "data['Hour'] = pd.to_datetime(data['Time']).dt.hour"
      ],
      "metadata": {
        "colab": {
          "base_uri": "https://localhost:8080/"
        },
        "id": "IZvDXS7lQe_k",
        "outputId": "c48aa85f-7322-42dd-a6c4-00a3c1a0a420"
      },
      "execution_count": 10,
      "outputs": [
        {
          "output_type": "stream",
          "name": "stderr",
          "text": [
            "<ipython-input-10-d860d8b858cd>:1: UserWarning: Could not infer format, so each element will be parsed individually, falling back to `dateutil`. To ensure parsing is consistent and as-expected, please specify a format.\n",
            "  data['Hour'] = pd.to_datetime(data['Time']).dt.hour\n"
          ]
        }
      ]
    },
    {
      "cell_type": "code",
      "source": [
        "data['Hour']"
      ],
      "metadata": {
        "colab": {
          "base_uri": "https://localhost:8080/"
        },
        "id": "OAI_EUoWQmPk",
        "outputId": "9a4f871d-f95f-4175-8434-2d9729e46b80"
      },
      "execution_count": 11,
      "outputs": [
        {
          "output_type": "execute_result",
          "data": {
            "text/plain": [
              "0        10\n",
              "1         9\n",
              "2         7\n",
              "3         2\n",
              "4         3\n",
              "         ..\n",
              "36899    21\n",
              "36900     9\n",
              "36901    13\n",
              "36902    12\n",
              "36903    15\n",
              "Name: Hour, Length: 36904, dtype: int32"
            ]
          },
          "metadata": {},
          "execution_count": 11
        }
      ]
    },
    {
      "cell_type": "markdown",
      "source": [
        "###Column `CellName` has character data and also it contains useful information of the station of data collection.So it can't simply be droped. Solution is to convert `CellName` into one-hot encoding. It makes it numeric helping our cause.\n",
        "\n",
        "\n"
      ],
      "metadata": {
        "id": "eJQrwRe7ft-3"
      }
    },
    {
      "cell_type": "code",
      "source": [
        "data = pd.get_dummies(data, columns=['CellName'], drop_first=True, dtype=int)"
      ],
      "metadata": {
        "id": "YtT5Y0eZRiOE"
      },
      "execution_count": 12,
      "outputs": []
    },
    {
      "cell_type": "code",
      "source": [
        "data"
      ],
      "metadata": {
        "colab": {
          "base_uri": "https://localhost:8080/",
          "height": 443
        },
        "id": "_PQmq7KURrpU",
        "outputId": "275ff1ab-25db-4b47-bcfb-2d98be34f3d6"
      },
      "execution_count": 13,
      "outputs": [
        {
          "output_type": "execute_result",
          "data": {
            "text/plain": [
              "        Time  PRBUsageUL  PRBUsageDL  meanThr_DL  meanThr_UL  maxThr_DL  \\\n",
              "0      10:45      11.642       1.393       0.370       0.041     15.655   \n",
              "1       9:45      21.791       1.891       0.537       0.268     10.273   \n",
              "2       7:45       0.498       0.398       0.015       0.010      0.262   \n",
              "3       2:45       1.891       1.095       0.940       0.024     60.715   \n",
              "4       3:30       0.303       0.404       0.016       0.013      0.348   \n",
              "...      ...         ...         ...         ...         ...        ...   \n",
              "36899  21:30       7.579       0.808       0.164       0.037      7.980   \n",
              "36900   9:45       9.095       1.213       0.189       0.030     19.510   \n",
              "36901  13:30       4.378       0.896       0.341       0.030     12.037   \n",
              "36902  12:30      13.339       2.728       0.559       0.065     28.187   \n",
              "36903  15:45      22.231       2.627       0.814       0.076     80.804   \n",
              "\n",
              "       maxThr_UL  meanUE_DL  meanUE_UL  maxUE_DL  ...  CellName_7BLTE  \\\n",
              "0          0.644      1.114      1.025       4.0  ...               0   \n",
              "1          1.154      1.353      1.085       6.0  ...               0   \n",
              "2          0.164      0.995      0.995       1.0  ...               0   \n",
              "3          0.825      1.035      0.995       2.0  ...               0   \n",
              "4          0.168      1.011      1.011       2.0  ...               0   \n",
              "...          ...        ...        ...       ...  ...             ...   \n",
              "36899      0.375      1.101      0.010       4.0  ...               0   \n",
              "36900      1.583      1.122      1.031       4.0  ...               0   \n",
              "36901      0.540      1.065      1.005       4.0  ...               0   \n",
              "36902      0.894      1.223      1.061       5.0  ...               0   \n",
              "36903      0.852      1.324      1.142       6.0  ...               0   \n",
              "\n",
              "      CellName_7CLTE  CellName_7ULTE  CellName_7VLTE  CellName_7WLTE  \\\n",
              "0                  0               0               0               0   \n",
              "1                  0               0               0               0   \n",
              "2                  0               0               0               0   \n",
              "3                  0               0               0               0   \n",
              "4                  0               0               0               0   \n",
              "...              ...             ...             ...             ...   \n",
              "36899              0               0               0               0   \n",
              "36900              0               0               0               0   \n",
              "36901              0               0               0               0   \n",
              "36902              0               0               0               0   \n",
              "36903              0               0               0               0   \n",
              "\n",
              "       CellName_8ALTE  CellName_8BLTE  CellName_8CLTE  CellName_9ALTE  \\\n",
              "0                   0               0               0               0   \n",
              "1                   0               0               0               0   \n",
              "2                   0               0               0               0   \n",
              "3                   0               0               0               0   \n",
              "4                   0               0               0               0   \n",
              "...               ...             ...             ...             ...   \n",
              "36899               0               0               0               0   \n",
              "36900               0               0               1               0   \n",
              "36901               0               0               0               0   \n",
              "36902               0               0               0               0   \n",
              "36903               0               0               0               0   \n",
              "\n",
              "       CellName_9BLTE  \n",
              "0                   0  \n",
              "1                   0  \n",
              "2                   1  \n",
              "3                   0  \n",
              "4                   0  \n",
              "...               ...  \n",
              "36899               0  \n",
              "36900               0  \n",
              "36901               1  \n",
              "36902               0  \n",
              "36903               0  \n",
              "\n",
              "[36904 rows x 46 columns]"
            ],
            "text/html": [
              "\n",
              "  <div id=\"df-995f0d0e-f2e8-4d89-8681-0af94850b2e6\" class=\"colab-df-container\">\n",
              "    <div>\n",
              "<style scoped>\n",
              "    .dataframe tbody tr th:only-of-type {\n",
              "        vertical-align: middle;\n",
              "    }\n",
              "\n",
              "    .dataframe tbody tr th {\n",
              "        vertical-align: top;\n",
              "    }\n",
              "\n",
              "    .dataframe thead th {\n",
              "        text-align: right;\n",
              "    }\n",
              "</style>\n",
              "<table border=\"1\" class=\"dataframe\">\n",
              "  <thead>\n",
              "    <tr style=\"text-align: right;\">\n",
              "      <th></th>\n",
              "      <th>Time</th>\n",
              "      <th>PRBUsageUL</th>\n",
              "      <th>PRBUsageDL</th>\n",
              "      <th>meanThr_DL</th>\n",
              "      <th>meanThr_UL</th>\n",
              "      <th>maxThr_DL</th>\n",
              "      <th>maxThr_UL</th>\n",
              "      <th>meanUE_DL</th>\n",
              "      <th>meanUE_UL</th>\n",
              "      <th>maxUE_DL</th>\n",
              "      <th>...</th>\n",
              "      <th>CellName_7BLTE</th>\n",
              "      <th>CellName_7CLTE</th>\n",
              "      <th>CellName_7ULTE</th>\n",
              "      <th>CellName_7VLTE</th>\n",
              "      <th>CellName_7WLTE</th>\n",
              "      <th>CellName_8ALTE</th>\n",
              "      <th>CellName_8BLTE</th>\n",
              "      <th>CellName_8CLTE</th>\n",
              "      <th>CellName_9ALTE</th>\n",
              "      <th>CellName_9BLTE</th>\n",
              "    </tr>\n",
              "  </thead>\n",
              "  <tbody>\n",
              "    <tr>\n",
              "      <th>0</th>\n",
              "      <td>10:45</td>\n",
              "      <td>11.642</td>\n",
              "      <td>1.393</td>\n",
              "      <td>0.370</td>\n",
              "      <td>0.041</td>\n",
              "      <td>15.655</td>\n",
              "      <td>0.644</td>\n",
              "      <td>1.114</td>\n",
              "      <td>1.025</td>\n",
              "      <td>4.0</td>\n",
              "      <td>...</td>\n",
              "      <td>0</td>\n",
              "      <td>0</td>\n",
              "      <td>0</td>\n",
              "      <td>0</td>\n",
              "      <td>0</td>\n",
              "      <td>0</td>\n",
              "      <td>0</td>\n",
              "      <td>0</td>\n",
              "      <td>0</td>\n",
              "      <td>0</td>\n",
              "    </tr>\n",
              "    <tr>\n",
              "      <th>1</th>\n",
              "      <td>9:45</td>\n",
              "      <td>21.791</td>\n",
              "      <td>1.891</td>\n",
              "      <td>0.537</td>\n",
              "      <td>0.268</td>\n",
              "      <td>10.273</td>\n",
              "      <td>1.154</td>\n",
              "      <td>1.353</td>\n",
              "      <td>1.085</td>\n",
              "      <td>6.0</td>\n",
              "      <td>...</td>\n",
              "      <td>0</td>\n",
              "      <td>0</td>\n",
              "      <td>0</td>\n",
              "      <td>0</td>\n",
              "      <td>0</td>\n",
              "      <td>0</td>\n",
              "      <td>0</td>\n",
              "      <td>0</td>\n",
              "      <td>0</td>\n",
              "      <td>0</td>\n",
              "    </tr>\n",
              "    <tr>\n",
              "      <th>2</th>\n",
              "      <td>7:45</td>\n",
              "      <td>0.498</td>\n",
              "      <td>0.398</td>\n",
              "      <td>0.015</td>\n",
              "      <td>0.010</td>\n",
              "      <td>0.262</td>\n",
              "      <td>0.164</td>\n",
              "      <td>0.995</td>\n",
              "      <td>0.995</td>\n",
              "      <td>1.0</td>\n",
              "      <td>...</td>\n",
              "      <td>0</td>\n",
              "      <td>0</td>\n",
              "      <td>0</td>\n",
              "      <td>0</td>\n",
              "      <td>0</td>\n",
              "      <td>0</td>\n",
              "      <td>0</td>\n",
              "      <td>0</td>\n",
              "      <td>0</td>\n",
              "      <td>1</td>\n",
              "    </tr>\n",
              "    <tr>\n",
              "      <th>3</th>\n",
              "      <td>2:45</td>\n",
              "      <td>1.891</td>\n",
              "      <td>1.095</td>\n",
              "      <td>0.940</td>\n",
              "      <td>0.024</td>\n",
              "      <td>60.715</td>\n",
              "      <td>0.825</td>\n",
              "      <td>1.035</td>\n",
              "      <td>0.995</td>\n",
              "      <td>2.0</td>\n",
              "      <td>...</td>\n",
              "      <td>0</td>\n",
              "      <td>0</td>\n",
              "      <td>0</td>\n",
              "      <td>0</td>\n",
              "      <td>0</td>\n",
              "      <td>0</td>\n",
              "      <td>0</td>\n",
              "      <td>0</td>\n",
              "      <td>0</td>\n",
              "      <td>0</td>\n",
              "    </tr>\n",
              "    <tr>\n",
              "      <th>4</th>\n",
              "      <td>3:30</td>\n",
              "      <td>0.303</td>\n",
              "      <td>0.404</td>\n",
              "      <td>0.016</td>\n",
              "      <td>0.013</td>\n",
              "      <td>0.348</td>\n",
              "      <td>0.168</td>\n",
              "      <td>1.011</td>\n",
              "      <td>1.011</td>\n",
              "      <td>2.0</td>\n",
              "      <td>...</td>\n",
              "      <td>0</td>\n",
              "      <td>0</td>\n",
              "      <td>0</td>\n",
              "      <td>0</td>\n",
              "      <td>0</td>\n",
              "      <td>0</td>\n",
              "      <td>0</td>\n",
              "      <td>0</td>\n",
              "      <td>0</td>\n",
              "      <td>0</td>\n",
              "    </tr>\n",
              "    <tr>\n",
              "      <th>...</th>\n",
              "      <td>...</td>\n",
              "      <td>...</td>\n",
              "      <td>...</td>\n",
              "      <td>...</td>\n",
              "      <td>...</td>\n",
              "      <td>...</td>\n",
              "      <td>...</td>\n",
              "      <td>...</td>\n",
              "      <td>...</td>\n",
              "      <td>...</td>\n",
              "      <td>...</td>\n",
              "      <td>...</td>\n",
              "      <td>...</td>\n",
              "      <td>...</td>\n",
              "      <td>...</td>\n",
              "      <td>...</td>\n",
              "      <td>...</td>\n",
              "      <td>...</td>\n",
              "      <td>...</td>\n",
              "      <td>...</td>\n",
              "      <td>...</td>\n",
              "    </tr>\n",
              "    <tr>\n",
              "      <th>36899</th>\n",
              "      <td>21:30</td>\n",
              "      <td>7.579</td>\n",
              "      <td>0.808</td>\n",
              "      <td>0.164</td>\n",
              "      <td>0.037</td>\n",
              "      <td>7.980</td>\n",
              "      <td>0.375</td>\n",
              "      <td>1.101</td>\n",
              "      <td>0.010</td>\n",
              "      <td>4.0</td>\n",
              "      <td>...</td>\n",
              "      <td>0</td>\n",
              "      <td>0</td>\n",
              "      <td>0</td>\n",
              "      <td>0</td>\n",
              "      <td>0</td>\n",
              "      <td>0</td>\n",
              "      <td>0</td>\n",
              "      <td>0</td>\n",
              "      <td>0</td>\n",
              "      <td>0</td>\n",
              "    </tr>\n",
              "    <tr>\n",
              "      <th>36900</th>\n",
              "      <td>9:45</td>\n",
              "      <td>9.095</td>\n",
              "      <td>1.213</td>\n",
              "      <td>0.189</td>\n",
              "      <td>0.030</td>\n",
              "      <td>19.510</td>\n",
              "      <td>1.583</td>\n",
              "      <td>1.122</td>\n",
              "      <td>1.031</td>\n",
              "      <td>4.0</td>\n",
              "      <td>...</td>\n",
              "      <td>0</td>\n",
              "      <td>0</td>\n",
              "      <td>0</td>\n",
              "      <td>0</td>\n",
              "      <td>0</td>\n",
              "      <td>0</td>\n",
              "      <td>0</td>\n",
              "      <td>1</td>\n",
              "      <td>0</td>\n",
              "      <td>0</td>\n",
              "    </tr>\n",
              "    <tr>\n",
              "      <th>36901</th>\n",
              "      <td>13:30</td>\n",
              "      <td>4.378</td>\n",
              "      <td>0.896</td>\n",
              "      <td>0.341</td>\n",
              "      <td>0.030</td>\n",
              "      <td>12.037</td>\n",
              "      <td>0.540</td>\n",
              "      <td>1.065</td>\n",
              "      <td>1.005</td>\n",
              "      <td>4.0</td>\n",
              "      <td>...</td>\n",
              "      <td>0</td>\n",
              "      <td>0</td>\n",
              "      <td>0</td>\n",
              "      <td>0</td>\n",
              "      <td>0</td>\n",
              "      <td>0</td>\n",
              "      <td>0</td>\n",
              "      <td>0</td>\n",
              "      <td>0</td>\n",
              "      <td>1</td>\n",
              "    </tr>\n",
              "    <tr>\n",
              "      <th>36902</th>\n",
              "      <td>12:30</td>\n",
              "      <td>13.339</td>\n",
              "      <td>2.728</td>\n",
              "      <td>0.559</td>\n",
              "      <td>0.065</td>\n",
              "      <td>28.187</td>\n",
              "      <td>0.894</td>\n",
              "      <td>1.223</td>\n",
              "      <td>1.061</td>\n",
              "      <td>5.0</td>\n",
              "      <td>...</td>\n",
              "      <td>0</td>\n",
              "      <td>0</td>\n",
              "      <td>0</td>\n",
              "      <td>0</td>\n",
              "      <td>0</td>\n",
              "      <td>0</td>\n",
              "      <td>0</td>\n",
              "      <td>0</td>\n",
              "      <td>0</td>\n",
              "      <td>0</td>\n",
              "    </tr>\n",
              "    <tr>\n",
              "      <th>36903</th>\n",
              "      <td>15:45</td>\n",
              "      <td>22.231</td>\n",
              "      <td>2.627</td>\n",
              "      <td>0.814</td>\n",
              "      <td>0.076</td>\n",
              "      <td>80.804</td>\n",
              "      <td>0.852</td>\n",
              "      <td>1.324</td>\n",
              "      <td>1.142</td>\n",
              "      <td>6.0</td>\n",
              "      <td>...</td>\n",
              "      <td>0</td>\n",
              "      <td>0</td>\n",
              "      <td>0</td>\n",
              "      <td>0</td>\n",
              "      <td>0</td>\n",
              "      <td>0</td>\n",
              "      <td>0</td>\n",
              "      <td>0</td>\n",
              "      <td>0</td>\n",
              "      <td>0</td>\n",
              "    </tr>\n",
              "  </tbody>\n",
              "</table>\n",
              "<p>36904 rows × 46 columns</p>\n",
              "</div>\n",
              "    <div class=\"colab-df-buttons\">\n",
              "\n",
              "  <div class=\"colab-df-container\">\n",
              "    <button class=\"colab-df-convert\" onclick=\"convertToInteractive('df-995f0d0e-f2e8-4d89-8681-0af94850b2e6')\"\n",
              "            title=\"Convert this dataframe to an interactive table.\"\n",
              "            style=\"display:none;\">\n",
              "\n",
              "  <svg xmlns=\"http://www.w3.org/2000/svg\" height=\"24px\" viewBox=\"0 -960 960 960\">\n",
              "    <path d=\"M120-120v-720h720v720H120Zm60-500h600v-160H180v160Zm220 220h160v-160H400v160Zm0 220h160v-160H400v160ZM180-400h160v-160H180v160Zm440 0h160v-160H620v160ZM180-180h160v-160H180v160Zm440 0h160v-160H620v160Z\"/>\n",
              "  </svg>\n",
              "    </button>\n",
              "\n",
              "  <style>\n",
              "    .colab-df-container {\n",
              "      display:flex;\n",
              "      gap: 12px;\n",
              "    }\n",
              "\n",
              "    .colab-df-convert {\n",
              "      background-color: #E8F0FE;\n",
              "      border: none;\n",
              "      border-radius: 50%;\n",
              "      cursor: pointer;\n",
              "      display: none;\n",
              "      fill: #1967D2;\n",
              "      height: 32px;\n",
              "      padding: 0 0 0 0;\n",
              "      width: 32px;\n",
              "    }\n",
              "\n",
              "    .colab-df-convert:hover {\n",
              "      background-color: #E2EBFA;\n",
              "      box-shadow: 0px 1px 2px rgba(60, 64, 67, 0.3), 0px 1px 3px 1px rgba(60, 64, 67, 0.15);\n",
              "      fill: #174EA6;\n",
              "    }\n",
              "\n",
              "    .colab-df-buttons div {\n",
              "      margin-bottom: 4px;\n",
              "    }\n",
              "\n",
              "    [theme=dark] .colab-df-convert {\n",
              "      background-color: #3B4455;\n",
              "      fill: #D2E3FC;\n",
              "    }\n",
              "\n",
              "    [theme=dark] .colab-df-convert:hover {\n",
              "      background-color: #434B5C;\n",
              "      box-shadow: 0px 1px 3px 1px rgba(0, 0, 0, 0.15);\n",
              "      filter: drop-shadow(0px 1px 2px rgba(0, 0, 0, 0.3));\n",
              "      fill: #FFFFFF;\n",
              "    }\n",
              "  </style>\n",
              "\n",
              "    <script>\n",
              "      const buttonEl =\n",
              "        document.querySelector('#df-995f0d0e-f2e8-4d89-8681-0af94850b2e6 button.colab-df-convert');\n",
              "      buttonEl.style.display =\n",
              "        google.colab.kernel.accessAllowed ? 'block' : 'none';\n",
              "\n",
              "      async function convertToInteractive(key) {\n",
              "        const element = document.querySelector('#df-995f0d0e-f2e8-4d89-8681-0af94850b2e6');\n",
              "        const dataTable =\n",
              "          await google.colab.kernel.invokeFunction('convertToInteractive',\n",
              "                                                    [key], {});\n",
              "        if (!dataTable) return;\n",
              "\n",
              "        const docLinkHtml = 'Like what you see? Visit the ' +\n",
              "          '<a target=\"_blank\" href=https://colab.research.google.com/notebooks/data_table.ipynb>data table notebook</a>'\n",
              "          + ' to learn more about interactive tables.';\n",
              "        element.innerHTML = '';\n",
              "        dataTable['output_type'] = 'display_data';\n",
              "        await google.colab.output.renderOutput(dataTable, element);\n",
              "        const docLink = document.createElement('div');\n",
              "        docLink.innerHTML = docLinkHtml;\n",
              "        element.appendChild(docLink);\n",
              "      }\n",
              "    </script>\n",
              "  </div>\n",
              "\n",
              "\n",
              "<div id=\"df-3ac11616-3bcd-413d-a78a-bae7fda63aa7\">\n",
              "  <button class=\"colab-df-quickchart\" onclick=\"quickchart('df-3ac11616-3bcd-413d-a78a-bae7fda63aa7')\"\n",
              "            title=\"Suggest charts\"\n",
              "            style=\"display:none;\">\n",
              "\n",
              "<svg xmlns=\"http://www.w3.org/2000/svg\" height=\"24px\"viewBox=\"0 0 24 24\"\n",
              "     width=\"24px\">\n",
              "    <g>\n",
              "        <path d=\"M19 3H5c-1.1 0-2 .9-2 2v14c0 1.1.9 2 2 2h14c1.1 0 2-.9 2-2V5c0-1.1-.9-2-2-2zM9 17H7v-7h2v7zm4 0h-2V7h2v10zm4 0h-2v-4h2v4z\"/>\n",
              "    </g>\n",
              "</svg>\n",
              "  </button>\n",
              "\n",
              "<style>\n",
              "  .colab-df-quickchart {\n",
              "      --bg-color: #E8F0FE;\n",
              "      --fill-color: #1967D2;\n",
              "      --hover-bg-color: #E2EBFA;\n",
              "      --hover-fill-color: #174EA6;\n",
              "      --disabled-fill-color: #AAA;\n",
              "      --disabled-bg-color: #DDD;\n",
              "  }\n",
              "\n",
              "  [theme=dark] .colab-df-quickchart {\n",
              "      --bg-color: #3B4455;\n",
              "      --fill-color: #D2E3FC;\n",
              "      --hover-bg-color: #434B5C;\n",
              "      --hover-fill-color: #FFFFFF;\n",
              "      --disabled-bg-color: #3B4455;\n",
              "      --disabled-fill-color: #666;\n",
              "  }\n",
              "\n",
              "  .colab-df-quickchart {\n",
              "    background-color: var(--bg-color);\n",
              "    border: none;\n",
              "    border-radius: 50%;\n",
              "    cursor: pointer;\n",
              "    display: none;\n",
              "    fill: var(--fill-color);\n",
              "    height: 32px;\n",
              "    padding: 0;\n",
              "    width: 32px;\n",
              "  }\n",
              "\n",
              "  .colab-df-quickchart:hover {\n",
              "    background-color: var(--hover-bg-color);\n",
              "    box-shadow: 0 1px 2px rgba(60, 64, 67, 0.3), 0 1px 3px 1px rgba(60, 64, 67, 0.15);\n",
              "    fill: var(--button-hover-fill-color);\n",
              "  }\n",
              "\n",
              "  .colab-df-quickchart-complete:disabled,\n",
              "  .colab-df-quickchart-complete:disabled:hover {\n",
              "    background-color: var(--disabled-bg-color);\n",
              "    fill: var(--disabled-fill-color);\n",
              "    box-shadow: none;\n",
              "  }\n",
              "\n",
              "  .colab-df-spinner {\n",
              "    border: 2px solid var(--fill-color);\n",
              "    border-color: transparent;\n",
              "    border-bottom-color: var(--fill-color);\n",
              "    animation:\n",
              "      spin 1s steps(1) infinite;\n",
              "  }\n",
              "\n",
              "  @keyframes spin {\n",
              "    0% {\n",
              "      border-color: transparent;\n",
              "      border-bottom-color: var(--fill-color);\n",
              "      border-left-color: var(--fill-color);\n",
              "    }\n",
              "    20% {\n",
              "      border-color: transparent;\n",
              "      border-left-color: var(--fill-color);\n",
              "      border-top-color: var(--fill-color);\n",
              "    }\n",
              "    30% {\n",
              "      border-color: transparent;\n",
              "      border-left-color: var(--fill-color);\n",
              "      border-top-color: var(--fill-color);\n",
              "      border-right-color: var(--fill-color);\n",
              "    }\n",
              "    40% {\n",
              "      border-color: transparent;\n",
              "      border-right-color: var(--fill-color);\n",
              "      border-top-color: var(--fill-color);\n",
              "    }\n",
              "    60% {\n",
              "      border-color: transparent;\n",
              "      border-right-color: var(--fill-color);\n",
              "    }\n",
              "    80% {\n",
              "      border-color: transparent;\n",
              "      border-right-color: var(--fill-color);\n",
              "      border-bottom-color: var(--fill-color);\n",
              "    }\n",
              "    90% {\n",
              "      border-color: transparent;\n",
              "      border-bottom-color: var(--fill-color);\n",
              "    }\n",
              "  }\n",
              "</style>\n",
              "\n",
              "  <script>\n",
              "    async function quickchart(key) {\n",
              "      const quickchartButtonEl =\n",
              "        document.querySelector('#' + key + ' button');\n",
              "      quickchartButtonEl.disabled = true;  // To prevent multiple clicks.\n",
              "      quickchartButtonEl.classList.add('colab-df-spinner');\n",
              "      try {\n",
              "        const charts = await google.colab.kernel.invokeFunction(\n",
              "            'suggestCharts', [key], {});\n",
              "      } catch (error) {\n",
              "        console.error('Error during call to suggestCharts:', error);\n",
              "      }\n",
              "      quickchartButtonEl.classList.remove('colab-df-spinner');\n",
              "      quickchartButtonEl.classList.add('colab-df-quickchart-complete');\n",
              "    }\n",
              "    (() => {\n",
              "      let quickchartButtonEl =\n",
              "        document.querySelector('#df-3ac11616-3bcd-413d-a78a-bae7fda63aa7 button');\n",
              "      quickchartButtonEl.style.display =\n",
              "        google.colab.kernel.accessAllowed ? 'block' : 'none';\n",
              "    })();\n",
              "  </script>\n",
              "</div>\n",
              "    </div>\n",
              "  </div>\n"
            ],
            "application/vnd.google.colaboratory.intrinsic+json": {
              "type": "dataframe",
              "variable_name": "data"
            }
          },
          "metadata": {},
          "execution_count": 13
        }
      ]
    },
    {
      "cell_type": "code",
      "source": [
        "data.columns"
      ],
      "metadata": {
        "colab": {
          "base_uri": "https://localhost:8080/"
        },
        "id": "z98wUvD1RyI7",
        "outputId": "e2846e35-6302-4da5-9310-2b15aa52a576"
      },
      "execution_count": 14,
      "outputs": [
        {
          "output_type": "execute_result",
          "data": {
            "text/plain": [
              "Index(['Time', 'PRBUsageUL', 'PRBUsageDL', 'meanThr_DL', 'meanThr_UL',\n",
              "       'maxThr_DL', 'maxThr_UL', 'meanUE_DL', 'meanUE_UL', 'maxUE_DL',\n",
              "       'maxUE_UL', 'maxUE_UL+DL', 'Unusual', 'Hour', 'CellName_10BLTE',\n",
              "       'CellName_10CLTE', 'CellName_1ALTE', 'CellName_1BLTE', 'CellName_1CLTE',\n",
              "       'CellName_2ALTE', 'CellName_3ALTE', 'CellName_3BLTE', 'CellName_3CLTE',\n",
              "       'CellName_4ALTE', 'CellName_4BLTE', 'CellName_4CLTE', 'CellName_5ALTE',\n",
              "       'CellName_5BLTE', 'CellName_5CLTE', 'CellName_6ALTE', 'CellName_6BLTE',\n",
              "       'CellName_6CLTE', 'CellName_6ULTE', 'CellName_6VLTE', 'CellName_6WLTE',\n",
              "       'CellName_7ALTE', 'CellName_7BLTE', 'CellName_7CLTE', 'CellName_7ULTE',\n",
              "       'CellName_7VLTE', 'CellName_7WLTE', 'CellName_8ALTE', 'CellName_8BLTE',\n",
              "       'CellName_8CLTE', 'CellName_9ALTE', 'CellName_9BLTE'],\n",
              "      dtype='object')"
            ]
          },
          "metadata": {},
          "execution_count": 14
        }
      ]
    },
    {
      "cell_type": "code",
      "source": [
        "data.drop(columns=['Time'], inplace=True)   #no need of time column as it becomes redudant now"
      ],
      "metadata": {
        "id": "4g1oCzLFSBw1"
      },
      "execution_count": 15,
      "outputs": []
    },
    {
      "cell_type": "code",
      "source": [
        "# feature selection\n",
        "data.isnull().sum()"
      ],
      "metadata": {
        "colab": {
          "base_uri": "https://localhost:8080/"
        },
        "id": "Oxmt5xxsQDsu",
        "outputId": "94288d65-d2b9-4373-e406-6049d46c2644"
      },
      "execution_count": 16,
      "outputs": [
        {
          "output_type": "execute_result",
          "data": {
            "text/plain": [
              "PRBUsageUL          0\n",
              "PRBUsageDL          0\n",
              "meanThr_DL          0\n",
              "meanThr_UL          0\n",
              "maxThr_DL           0\n",
              "maxThr_UL           0\n",
              "meanUE_DL           0\n",
              "meanUE_UL           0\n",
              "maxUE_DL           89\n",
              "maxUE_UL           89\n",
              "maxUE_UL+DL         5\n",
              "Unusual             0\n",
              "Hour                0\n",
              "CellName_10BLTE     0\n",
              "CellName_10CLTE     0\n",
              "CellName_1ALTE      0\n",
              "CellName_1BLTE      0\n",
              "CellName_1CLTE      0\n",
              "CellName_2ALTE      0\n",
              "CellName_3ALTE      0\n",
              "CellName_3BLTE      0\n",
              "CellName_3CLTE      0\n",
              "CellName_4ALTE      0\n",
              "CellName_4BLTE      0\n",
              "CellName_4CLTE      0\n",
              "CellName_5ALTE      0\n",
              "CellName_5BLTE      0\n",
              "CellName_5CLTE      0\n",
              "CellName_6ALTE      0\n",
              "CellName_6BLTE      0\n",
              "CellName_6CLTE      0\n",
              "CellName_6ULTE      0\n",
              "CellName_6VLTE      0\n",
              "CellName_6WLTE      0\n",
              "CellName_7ALTE      0\n",
              "CellName_7BLTE      0\n",
              "CellName_7CLTE      0\n",
              "CellName_7ULTE      0\n",
              "CellName_7VLTE      0\n",
              "CellName_7WLTE      0\n",
              "CellName_8ALTE      0\n",
              "CellName_8BLTE      0\n",
              "CellName_8CLTE      0\n",
              "CellName_9ALTE      0\n",
              "CellName_9BLTE      0\n",
              "dtype: int64"
            ]
          },
          "metadata": {},
          "execution_count": 16
        }
      ]
    },
    {
      "cell_type": "code",
      "source": [
        "#dropping it as they are slight redudant with emaculate mean values\n",
        "data.drop(columns=['maxUE_UL','maxUE_DL','maxUE_UL+DL'], inplace=True)"
      ],
      "metadata": {
        "id": "qqi3qaf-Skpa"
      },
      "execution_count": 17,
      "outputs": []
    },
    {
      "cell_type": "code",
      "source": [
        "# selecting features and lables from dataframe\n",
        "X = data.drop(columns=['Unusual'])\n",
        "Y = data['Unusual']"
      ],
      "metadata": {
        "id": "zkt7_cCqTAEN"
      },
      "execution_count": 18,
      "outputs": []
    },
    {
      "cell_type": "code",
      "source": [
        "X.columns"
      ],
      "metadata": {
        "colab": {
          "base_uri": "https://localhost:8080/"
        },
        "id": "xtPig63sTN7B",
        "outputId": "4f05882b-09e5-40e4-d6ff-8254f3bd0395"
      },
      "execution_count": 19,
      "outputs": [
        {
          "output_type": "execute_result",
          "data": {
            "text/plain": [
              "Index(['PRBUsageUL', 'PRBUsageDL', 'meanThr_DL', 'meanThr_UL', 'maxThr_DL',\n",
              "       'maxThr_UL', 'meanUE_DL', 'meanUE_UL', 'Hour', 'CellName_10BLTE',\n",
              "       'CellName_10CLTE', 'CellName_1ALTE', 'CellName_1BLTE', 'CellName_1CLTE',\n",
              "       'CellName_2ALTE', 'CellName_3ALTE', 'CellName_3BLTE', 'CellName_3CLTE',\n",
              "       'CellName_4ALTE', 'CellName_4BLTE', 'CellName_4CLTE', 'CellName_5ALTE',\n",
              "       'CellName_5BLTE', 'CellName_5CLTE', 'CellName_6ALTE', 'CellName_6BLTE',\n",
              "       'CellName_6CLTE', 'CellName_6ULTE', 'CellName_6VLTE', 'CellName_6WLTE',\n",
              "       'CellName_7ALTE', 'CellName_7BLTE', 'CellName_7CLTE', 'CellName_7ULTE',\n",
              "       'CellName_7VLTE', 'CellName_7WLTE', 'CellName_8ALTE', 'CellName_8BLTE',\n",
              "       'CellName_8CLTE', 'CellName_9ALTE', 'CellName_9BLTE'],\n",
              "      dtype='object')"
            ]
          },
          "metadata": {},
          "execution_count": 19
        }
      ]
    },
    {
      "cell_type": "code",
      "source": [
        "Y\n"
      ],
      "metadata": {
        "colab": {
          "base_uri": "https://localhost:8080/"
        },
        "id": "09g1fkKLTP_O",
        "outputId": "4b0025e9-7b02-4b9c-ebb2-7db7985352d0"
      },
      "execution_count": 20,
      "outputs": [
        {
          "output_type": "execute_result",
          "data": {
            "text/plain": [
              "0        1\n",
              "1        1\n",
              "2        1\n",
              "3        1\n",
              "4        0\n",
              "        ..\n",
              "36899    0\n",
              "36900    0\n",
              "36901    1\n",
              "36902    0\n",
              "36903    0\n",
              "Name: Unusual, Length: 36904, dtype: int64"
            ]
          },
          "metadata": {},
          "execution_count": 20
        }
      ]
    },
    {
      "cell_type": "code",
      "source": [
        "#split for training and valifation\n",
        "X_train, X_test, y_train, y_test = train_test_split(X, Y, test_size=0.2, random_state=42)"
      ],
      "metadata": {
        "id": "GD3fedJaTYLx"
      },
      "execution_count": 21,
      "outputs": []
    },
    {
      "cell_type": "markdown",
      "source": [
        "#Classification"
      ],
      "metadata": {
        "id": "pz_g2ckXl5iq"
      }
    },
    {
      "cell_type": "markdown",
      "source": [
        "##Gaussian Naive Bayes (GaussianNB)\n",
        "\n",
        "Gaussian Naive Bayes assumes that the continuous features follow a normal distribution. This variant is specifically used when the features are continuous and can be modeled using a Gaussian distribution.\n",
        "\n",
        "Which is not he case here but lets try and see result."
      ],
      "metadata": {
        "id": "5wkZ1NgciD4F"
      }
    },
    {
      "cell_type": "code",
      "source": [
        "gnb = GaussianNB()\n",
        "gnb.fit(X_train, y_train)"
      ],
      "metadata": {
        "colab": {
          "base_uri": "https://localhost:8080/",
          "height": 74
        },
        "id": "jKMFNdpxT0Zk",
        "outputId": "43f313eb-d960-475d-f166-5c9b1d1e0d2a"
      },
      "execution_count": 22,
      "outputs": [
        {
          "output_type": "execute_result",
          "data": {
            "text/plain": [
              "GaussianNB()"
            ],
            "text/html": [
              "<style>#sk-container-id-1 {color: black;background-color: white;}#sk-container-id-1 pre{padding: 0;}#sk-container-id-1 div.sk-toggleable {background-color: white;}#sk-container-id-1 label.sk-toggleable__label {cursor: pointer;display: block;width: 100%;margin-bottom: 0;padding: 0.3em;box-sizing: border-box;text-align: center;}#sk-container-id-1 label.sk-toggleable__label-arrow:before {content: \"▸\";float: left;margin-right: 0.25em;color: #696969;}#sk-container-id-1 label.sk-toggleable__label-arrow:hover:before {color: black;}#sk-container-id-1 div.sk-estimator:hover label.sk-toggleable__label-arrow:before {color: black;}#sk-container-id-1 div.sk-toggleable__content {max-height: 0;max-width: 0;overflow: hidden;text-align: left;background-color: #f0f8ff;}#sk-container-id-1 div.sk-toggleable__content pre {margin: 0.2em;color: black;border-radius: 0.25em;background-color: #f0f8ff;}#sk-container-id-1 input.sk-toggleable__control:checked~div.sk-toggleable__content {max-height: 200px;max-width: 100%;overflow: auto;}#sk-container-id-1 input.sk-toggleable__control:checked~label.sk-toggleable__label-arrow:before {content: \"▾\";}#sk-container-id-1 div.sk-estimator input.sk-toggleable__control:checked~label.sk-toggleable__label {background-color: #d4ebff;}#sk-container-id-1 div.sk-label input.sk-toggleable__control:checked~label.sk-toggleable__label {background-color: #d4ebff;}#sk-container-id-1 input.sk-hidden--visually {border: 0;clip: rect(1px 1px 1px 1px);clip: rect(1px, 1px, 1px, 1px);height: 1px;margin: -1px;overflow: hidden;padding: 0;position: absolute;width: 1px;}#sk-container-id-1 div.sk-estimator {font-family: monospace;background-color: #f0f8ff;border: 1px dotted black;border-radius: 0.25em;box-sizing: border-box;margin-bottom: 0.5em;}#sk-container-id-1 div.sk-estimator:hover {background-color: #d4ebff;}#sk-container-id-1 div.sk-parallel-item::after {content: \"\";width: 100%;border-bottom: 1px solid gray;flex-grow: 1;}#sk-container-id-1 div.sk-label:hover label.sk-toggleable__label {background-color: #d4ebff;}#sk-container-id-1 div.sk-serial::before {content: \"\";position: absolute;border-left: 1px solid gray;box-sizing: border-box;top: 0;bottom: 0;left: 50%;z-index: 0;}#sk-container-id-1 div.sk-serial {display: flex;flex-direction: column;align-items: center;background-color: white;padding-right: 0.2em;padding-left: 0.2em;position: relative;}#sk-container-id-1 div.sk-item {position: relative;z-index: 1;}#sk-container-id-1 div.sk-parallel {display: flex;align-items: stretch;justify-content: center;background-color: white;position: relative;}#sk-container-id-1 div.sk-item::before, #sk-container-id-1 div.sk-parallel-item::before {content: \"\";position: absolute;border-left: 1px solid gray;box-sizing: border-box;top: 0;bottom: 0;left: 50%;z-index: -1;}#sk-container-id-1 div.sk-parallel-item {display: flex;flex-direction: column;z-index: 1;position: relative;background-color: white;}#sk-container-id-1 div.sk-parallel-item:first-child::after {align-self: flex-end;width: 50%;}#sk-container-id-1 div.sk-parallel-item:last-child::after {align-self: flex-start;width: 50%;}#sk-container-id-1 div.sk-parallel-item:only-child::after {width: 0;}#sk-container-id-1 div.sk-dashed-wrapped {border: 1px dashed gray;margin: 0 0.4em 0.5em 0.4em;box-sizing: border-box;padding-bottom: 0.4em;background-color: white;}#sk-container-id-1 div.sk-label label {font-family: monospace;font-weight: bold;display: inline-block;line-height: 1.2em;}#sk-container-id-1 div.sk-label-container {text-align: center;}#sk-container-id-1 div.sk-container {/* jupyter's `normalize.less` sets `[hidden] { display: none; }` but bootstrap.min.css set `[hidden] { display: none !important; }` so we also need the `!important` here to be able to override the default hidden behavior on the sphinx rendered scikit-learn.org. See: https://github.com/scikit-learn/scikit-learn/issues/21755 */display: inline-block !important;position: relative;}#sk-container-id-1 div.sk-text-repr-fallback {display: none;}</style><div id=\"sk-container-id-1\" class=\"sk-top-container\"><div class=\"sk-text-repr-fallback\"><pre>GaussianNB()</pre><b>In a Jupyter environment, please rerun this cell to show the HTML representation or trust the notebook. <br />On GitHub, the HTML representation is unable to render, please try loading this page with nbviewer.org.</b></div><div class=\"sk-container\" hidden><div class=\"sk-item\"><div class=\"sk-estimator sk-toggleable\"><input class=\"sk-toggleable__control sk-hidden--visually\" id=\"sk-estimator-id-1\" type=\"checkbox\" checked><label for=\"sk-estimator-id-1\" class=\"sk-toggleable__label sk-toggleable__label-arrow\">GaussianNB</label><div class=\"sk-toggleable__content\"><pre>GaussianNB()</pre></div></div></div></div></div>"
            ]
          },
          "metadata": {},
          "execution_count": 22
        }
      ]
    },
    {
      "cell_type": "code",
      "source": [
        "y_pred = gnb.predict(X_test)"
      ],
      "metadata": {
        "id": "HyI3TJVgT9DN"
      },
      "execution_count": 23,
      "outputs": []
    },
    {
      "cell_type": "code",
      "source": [
        "print(\"Accuracy:\", accuracy_score(y_test, y_pred))"
      ],
      "metadata": {
        "colab": {
          "base_uri": "https://localhost:8080/"
        },
        "id": "PE2MSgMdUS9-",
        "outputId": "7b3492a0-3862-48d1-a891-c5e891837cb4"
      },
      "execution_count": 24,
      "outputs": [
        {
          "output_type": "stream",
          "name": "stdout",
          "text": [
            "Accuracy: 0.5477577564015716\n"
          ]
        }
      ]
    },
    {
      "cell_type": "markdown",
      "source": [
        "As expected this didn't go well, `Accuracy: 0.5477577564015716` in Binary classification means model learned nothing.\n",
        "\n",
        "Lets now go with decision tree classifier it is better suited as It is a non-parametric supervised learning algorithm used for classification. It splits the data into subsets based on the value of input features, making decisions at each node until a prediction is made at a leaf node."
      ],
      "metadata": {
        "id": "C1D4J0ATiabL"
      }
    },
    {
      "cell_type": "code",
      "source": [
        "classifier = DecisionTreeClassifier()"
      ],
      "metadata": {
        "id": "aBqVEtkXUl4v"
      },
      "execution_count": 25,
      "outputs": []
    },
    {
      "cell_type": "code",
      "source": [
        "classifier.fit(X_train, y_train)"
      ],
      "metadata": {
        "colab": {
          "base_uri": "https://localhost:8080/",
          "height": 74
        },
        "id": "wGtf1IMjUvZ9",
        "outputId": "7899cc13-32ba-4dd5-9507-7879da28a948"
      },
      "execution_count": 26,
      "outputs": [
        {
          "output_type": "execute_result",
          "data": {
            "text/plain": [
              "DecisionTreeClassifier()"
            ],
            "text/html": [
              "<style>#sk-container-id-2 {color: black;background-color: white;}#sk-container-id-2 pre{padding: 0;}#sk-container-id-2 div.sk-toggleable {background-color: white;}#sk-container-id-2 label.sk-toggleable__label {cursor: pointer;display: block;width: 100%;margin-bottom: 0;padding: 0.3em;box-sizing: border-box;text-align: center;}#sk-container-id-2 label.sk-toggleable__label-arrow:before {content: \"▸\";float: left;margin-right: 0.25em;color: #696969;}#sk-container-id-2 label.sk-toggleable__label-arrow:hover:before {color: black;}#sk-container-id-2 div.sk-estimator:hover label.sk-toggleable__label-arrow:before {color: black;}#sk-container-id-2 div.sk-toggleable__content {max-height: 0;max-width: 0;overflow: hidden;text-align: left;background-color: #f0f8ff;}#sk-container-id-2 div.sk-toggleable__content pre {margin: 0.2em;color: black;border-radius: 0.25em;background-color: #f0f8ff;}#sk-container-id-2 input.sk-toggleable__control:checked~div.sk-toggleable__content {max-height: 200px;max-width: 100%;overflow: auto;}#sk-container-id-2 input.sk-toggleable__control:checked~label.sk-toggleable__label-arrow:before {content: \"▾\";}#sk-container-id-2 div.sk-estimator input.sk-toggleable__control:checked~label.sk-toggleable__label {background-color: #d4ebff;}#sk-container-id-2 div.sk-label input.sk-toggleable__control:checked~label.sk-toggleable__label {background-color: #d4ebff;}#sk-container-id-2 input.sk-hidden--visually {border: 0;clip: rect(1px 1px 1px 1px);clip: rect(1px, 1px, 1px, 1px);height: 1px;margin: -1px;overflow: hidden;padding: 0;position: absolute;width: 1px;}#sk-container-id-2 div.sk-estimator {font-family: monospace;background-color: #f0f8ff;border: 1px dotted black;border-radius: 0.25em;box-sizing: border-box;margin-bottom: 0.5em;}#sk-container-id-2 div.sk-estimator:hover {background-color: #d4ebff;}#sk-container-id-2 div.sk-parallel-item::after {content: \"\";width: 100%;border-bottom: 1px solid gray;flex-grow: 1;}#sk-container-id-2 div.sk-label:hover label.sk-toggleable__label {background-color: #d4ebff;}#sk-container-id-2 div.sk-serial::before {content: \"\";position: absolute;border-left: 1px solid gray;box-sizing: border-box;top: 0;bottom: 0;left: 50%;z-index: 0;}#sk-container-id-2 div.sk-serial {display: flex;flex-direction: column;align-items: center;background-color: white;padding-right: 0.2em;padding-left: 0.2em;position: relative;}#sk-container-id-2 div.sk-item {position: relative;z-index: 1;}#sk-container-id-2 div.sk-parallel {display: flex;align-items: stretch;justify-content: center;background-color: white;position: relative;}#sk-container-id-2 div.sk-item::before, #sk-container-id-2 div.sk-parallel-item::before {content: \"\";position: absolute;border-left: 1px solid gray;box-sizing: border-box;top: 0;bottom: 0;left: 50%;z-index: -1;}#sk-container-id-2 div.sk-parallel-item {display: flex;flex-direction: column;z-index: 1;position: relative;background-color: white;}#sk-container-id-2 div.sk-parallel-item:first-child::after {align-self: flex-end;width: 50%;}#sk-container-id-2 div.sk-parallel-item:last-child::after {align-self: flex-start;width: 50%;}#sk-container-id-2 div.sk-parallel-item:only-child::after {width: 0;}#sk-container-id-2 div.sk-dashed-wrapped {border: 1px dashed gray;margin: 0 0.4em 0.5em 0.4em;box-sizing: border-box;padding-bottom: 0.4em;background-color: white;}#sk-container-id-2 div.sk-label label {font-family: monospace;font-weight: bold;display: inline-block;line-height: 1.2em;}#sk-container-id-2 div.sk-label-container {text-align: center;}#sk-container-id-2 div.sk-container {/* jupyter's `normalize.less` sets `[hidden] { display: none; }` but bootstrap.min.css set `[hidden] { display: none !important; }` so we also need the `!important` here to be able to override the default hidden behavior on the sphinx rendered scikit-learn.org. See: https://github.com/scikit-learn/scikit-learn/issues/21755 */display: inline-block !important;position: relative;}#sk-container-id-2 div.sk-text-repr-fallback {display: none;}</style><div id=\"sk-container-id-2\" class=\"sk-top-container\"><div class=\"sk-text-repr-fallback\"><pre>DecisionTreeClassifier()</pre><b>In a Jupyter environment, please rerun this cell to show the HTML representation or trust the notebook. <br />On GitHub, the HTML representation is unable to render, please try loading this page with nbviewer.org.</b></div><div class=\"sk-container\" hidden><div class=\"sk-item\"><div class=\"sk-estimator sk-toggleable\"><input class=\"sk-toggleable__control sk-hidden--visually\" id=\"sk-estimator-id-2\" type=\"checkbox\" checked><label for=\"sk-estimator-id-2\" class=\"sk-toggleable__label sk-toggleable__label-arrow\">DecisionTreeClassifier</label><div class=\"sk-toggleable__content\"><pre>DecisionTreeClassifier()</pre></div></div></div></div></div>"
            ]
          },
          "metadata": {},
          "execution_count": 26
        }
      ]
    },
    {
      "cell_type": "code",
      "source": [
        "training_accuracy = classifier.score(X_train, y_train)\n",
        "print(f\"Training Accuracy: {training_accuracy}\")"
      ],
      "metadata": {
        "colab": {
          "base_uri": "https://localhost:8080/"
        },
        "id": "pIbgzjH4M-ks",
        "outputId": "8010976b-6a07-4371-b5da-1fe96e032caf"
      },
      "execution_count": 43,
      "outputs": [
        {
          "output_type": "stream",
          "name": "stdout",
          "text": [
            "Training Accuracy: 1.0\n"
          ]
        }
      ]
    },
    {
      "cell_type": "code",
      "source": [
        "import matplotlib.pyplot as plt"
      ],
      "metadata": {
        "id": "OGD2hAnqNY2N"
      },
      "execution_count": 44,
      "outputs": []
    },
    {
      "cell_type": "code",
      "source": [
        "testing_accuracy = classifier.score(X_test, y_test)\n",
        "\n",
        "# Plot the accuracies\n",
        "plt.figure(figsize=(4, 2))\n",
        "plt.bar(['Train Accuracy', 'Test Accuracy'], [training_accuracy, testing_accuracy], color=['blue', 'green'])\n",
        "plt.ylim(0, 1)\n",
        "plt.ylabel('Accuracy')\n",
        "plt.title('Train and Test Accuracy')\n",
        "plt.show()"
      ],
      "metadata": {
        "colab": {
          "base_uri": "https://localhost:8080/",
          "height": 237
        },
        "id": "foYDv5AINaNH",
        "outputId": "38b23993-532c-4ed5-c46d-1e773ebd8c0c"
      },
      "execution_count": 47,
      "outputs": [
        {
          "output_type": "display_data",
          "data": {
            "text/plain": [
              "<Figure size 400x200 with 1 Axes>"
            ],
            "image/png": "[encoded data removed]"
          },
          "metadata": {}
        }
      ]
    },
    {
      "cell_type": "code",
      "source": [
        "y_pred_dt = classifier.predict(X_test)"
      ],
      "metadata": {
        "id": "Z3U1SCZFU2GZ"
      },
      "execution_count": 27,
      "outputs": []
    },
    {
      "cell_type": "code",
      "source": [
        "print(\"Accuracy:\", accuracy_score(y_test, y_pred_dt))\n",
        "conf_matrix = confusion_matrix(y_test, y_pred_dt)\n",
        "print(\"Confusion Matrix:\")\n",
        "print(conf_matrix)\n",
        "print(\"F1 score:\", f1_score(y_test, y_pred_dt))"
      ],
      "metadata": {
        "colab": {
          "base_uri": "https://localhost:8080/"
        },
        "id": "k8KnjkEXVMTx",
        "outputId": "738a541d-456f-420c-8d0a-628dd7ef35e0"
      },
      "execution_count": 28,
      "outputs": [
        {
          "output_type": "stream",
          "name": "stdout",
          "text": [
            "Accuracy: 0.9460777672402113\n",
            "Confusion Matrix:\n",
            "[[5157  178]\n",
            " [ 220 1826]]\n",
            "F1 score: 0.9017283950617284\n"
          ]
        }
      ]
    },
    {
      "cell_type": "markdown",
      "source": [
        "Above parameters have very decent numbers.\n",
        "\n",
        "## So we accomplished our task wit 94.5% accuracy."
      ],
      "metadata": {
        "id": "Ya3-78oEkH4C"
      }
    },
    {
      "cell_type": "code",
      "source": [
        "#predicting for real test split provided by Kaggle\n",
        "test_df = pd.read_csv('/content/drive/MyDrive/cellular_anamoly_dataset/ML-MATT-CompetitionQT1920_test.csv', encoding='windows-1252')"
      ],
      "metadata": {
        "id": "XFjeVTgbjbpr"
      },
      "execution_count": 29,
      "outputs": []
    },
    {
      "cell_type": "code",
      "source": [
        "test_df['Hour'] = pd.to_datetime(test_df['Time']).dt.hour"
      ],
      "metadata": {
        "colab": {
          "base_uri": "https://localhost:8080/"
        },
        "id": "ANkZGKBrnj2K",
        "outputId": "8d065e2e-57cf-4342-acb2-91f89fb8fd71"
      },
      "execution_count": 30,
      "outputs": [
        {
          "output_type": "stream",
          "name": "stderr",
          "text": [
            "<ipython-input-30-d3679b940fcb>:1: UserWarning: Could not infer format, so each element will be parsed individually, falling back to `dateutil`. To ensure parsing is consistent and as-expected, please specify a format.\n",
            "  test_df['Hour'] = pd.to_datetime(test_df['Time']).dt.hour\n"
          ]
        }
      ]
    },
    {
      "cell_type": "code",
      "source": [
        "test_df = pd.get_dummies(test_df, columns=['CellName'], drop_first=True, dtype=int)"
      ],
      "metadata": {
        "id": "IPtRKaM-nzPs"
      },
      "execution_count": 31,
      "outputs": []
    },
    {
      "cell_type": "code",
      "source": [
        "test_df.drop(columns=['Time'], inplace=True)\n",
        "test_df.drop(columns=['maxUE_UL','maxUE_DL','maxUE_UL+DL'], inplace=True)"
      ],
      "metadata": {
        "id": "EnM88lJJn6RU"
      },
      "execution_count": 32,
      "outputs": []
    },
    {
      "cell_type": "code",
      "source": [
        "y_pred_test = classifier.predict(test_df)"
      ],
      "metadata": {
        "id": "jJtos5ivoUyp"
      },
      "execution_count": 33,
      "outputs": []
    },
    {
      "cell_type": "code",
      "source": [
        "y_pred_test"
      ],
      "metadata": {
        "colab": {
          "base_uri": "https://localhost:8080/"
        },
        "id": "UpU9AL8Dof4M",
        "outputId": "fc1ac454-cb60-4b3c-c35e-e3ec22e714d2"
      },
      "execution_count": 34,
      "outputs": [
        {
          "output_type": "execute_result",
          "data": {
            "text/plain": [
              "array([1, 0, 0, ..., 0, 0, 0])"
            ]
          },
          "metadata": {},
          "execution_count": 34
        }
      ]
    },
    {
      "cell_type": "code",
      "source": [
        "df = pd.DataFrame(y_pred_test, columns=['anamoly'])"
      ],
      "metadata": {
        "id": "ukAv9Mb2ojZl"
      },
      "execution_count": 35,
      "outputs": []
    },
    {
      "cell_type": "code",
      "source": [
        "#to store in the form kaggle requires\n",
        "df.to_csv('classification.csv', index=True)"
      ],
      "metadata": {
        "id": "Gwrb4AoAo9OL"
      },
      "execution_count": 36,
      "outputs": []
    },
    {
      "cell_type": "markdown",
      "source": [
        "###Saving the model"
      ],
      "metadata": {
        "id": "7G12HxhDR_Ls"
      }
    },
    {
      "cell_type": "code",
      "source": [
        "#sove model for inference\n",
        "pickle_file = 'anamoly_dector_tree.pickle'\n",
        "with open(pickle_file, 'wb') as file:\n",
        "    pickle.dump(classifier, file)"
      ],
      "metadata": {
        "id": "W-eH87WNo-FS"
      },
      "execution_count": 54,
      "outputs": []
    },
    {
      "cell_type": "code",
      "source": [
        "with open(pickle_file, 'rb') as file:\n",
        "    loaded_classifier = pickle.load(file)"
      ],
      "metadata": {
        "id": "0lVO__sPKMDQ"
      },
      "execution_count": 55,
      "outputs": []
    },
    {
      "cell_type": "code",
      "source": [
        "y_load_test = loaded_classifier.predict(test_df)"
      ],
      "metadata": {
        "id": "yHm_7-dJLUqZ"
      },
      "execution_count": 56,
      "outputs": []
    },
    {
      "cell_type": "markdown",
      "source": [
        "###Trying out random forest classifier"
      ],
      "metadata": {
        "id": "_AqBHxPaSGaY"
      }
    },
    {
      "cell_type": "code",
      "source": [
        "from sklearn.ensemble import RandomForestClassifier"
      ],
      "metadata": {
        "id": "FeJTA4PRPNyb"
      },
      "execution_count": 57,
      "outputs": []
    },
    {
      "cell_type": "code",
      "source": [
        "# trying out random forest\n",
        "forest_classifier = RandomForestClassifier()\n",
        "forest_classifier.fit(X_train, y_train)"
      ],
      "metadata": {
        "colab": {
          "base_uri": "https://localhost:8080/",
          "height": 74
        },
        "id": "X5YnGq7SO12f",
        "outputId": "d9ebaafe-bc30-401a-9482-f15491701be9"
      },
      "execution_count": 58,
      "outputs": [
        {
          "output_type": "execute_result",
          "data": {
            "text/plain": [
              "RandomForestClassifier()"
            ],
            "text/html": [
              "<style>#sk-container-id-4 {color: black;background-color: white;}#sk-container-id-4 pre{padding: 0;}#sk-container-id-4 div.sk-toggleable {background-color: white;}#sk-container-id-4 label.sk-toggleable__label {cursor: pointer;display: block;width: 100%;margin-bottom: 0;padding: 0.3em;box-sizing: border-box;text-align: center;}#sk-container-id-4 label.sk-toggleable__label-arrow:before {content: \"▸\";float: left;margin-right: 0.25em;color: #696969;}#sk-container-id-4 label.sk-toggleable__label-arrow:hover:before {color: black;}#sk-container-id-4 div.sk-estimator:hover label.sk-toggleable__label-arrow:before {color: black;}#sk-container-id-4 div.sk-toggleable__content {max-height: 0;max-width: 0;overflow: hidden;text-align: left;background-color: #f0f8ff;}#sk-container-id-4 div.sk-toggleable__content pre {margin: 0.2em;color: black;border-radius: 0.25em;background-color: #f0f8ff;}#sk-container-id-4 input.sk-toggleable__control:checked~div.sk-toggleable__content {max-height: 200px;max-width: 100%;overflow: auto;}#sk-container-id-4 input.sk-toggleable__control:checked~label.sk-toggleable__label-arrow:before {content: \"▾\";}#sk-container-id-4 div.sk-estimator input.sk-toggleable__control:checked~label.sk-toggleable__label {background-color: #d4ebff;}#sk-container-id-4 div.sk-label input.sk-toggleable__control:checked~label.sk-toggleable__label {background-color: #d4ebff;}#sk-container-id-4 input.sk-hidden--visually {border: 0;clip: rect(1px 1px 1px 1px);clip: rect(1px, 1px, 1px, 1px);height: 1px;margin: -1px;overflow: hidden;padding: 0;position: absolute;width: 1px;}#sk-container-id-4 div.sk-estimator {font-family: monospace;background-color: #f0f8ff;border: 1px dotted black;border-radius: 0.25em;box-sizing: border-box;margin-bottom: 0.5em;}#sk-container-id-4 div.sk-estimator:hover {background-color: #d4ebff;}#sk-container-id-4 div.sk-parallel-item::after {content: \"\";width: 100%;border-bottom: 1px solid gray;flex-grow: 1;}#sk-container-id-4 div.sk-label:hover label.sk-toggleable__label {background-color: #d4ebff;}#sk-container-id-4 div.sk-serial::before {content: \"\";position: absolute;border-left: 1px solid gray;box-sizing: border-box;top: 0;bottom: 0;left: 50%;z-index: 0;}#sk-container-id-4 div.sk-serial {display: flex;flex-direction: column;align-items: center;background-color: white;padding-right: 0.2em;padding-left: 0.2em;position: relative;}#sk-container-id-4 div.sk-item {position: relative;z-index: 1;}#sk-container-id-4 div.sk-parallel {display: flex;align-items: stretch;justify-content: center;background-color: white;position: relative;}#sk-container-id-4 div.sk-item::before, #sk-container-id-4 div.sk-parallel-item::before {content: \"\";position: absolute;border-left: 1px solid gray;box-sizing: border-box;top: 0;bottom: 0;left: 50%;z-index: -1;}#sk-container-id-4 div.sk-parallel-item {display: flex;flex-direction: column;z-index: 1;position: relative;background-color: white;}#sk-container-id-4 div.sk-parallel-item:first-child::after {align-self: flex-end;width: 50%;}#sk-container-id-4 div.sk-parallel-item:last-child::after {align-self: flex-start;width: 50%;}#sk-container-id-4 div.sk-parallel-item:only-child::after {width: 0;}#sk-container-id-4 div.sk-dashed-wrapped {border: 1px dashed gray;margin: 0 0.4em 0.5em 0.4em;box-sizing: border-box;padding-bottom: 0.4em;background-color: white;}#sk-container-id-4 div.sk-label label {font-family: monospace;font-weight: bold;display: inline-block;line-height: 1.2em;}#sk-container-id-4 div.sk-label-container {text-align: center;}#sk-container-id-4 div.sk-container {/* jupyter's `normalize.less` sets `[hidden] { display: none; }` but bootstrap.min.css set `[hidden] { display: none !important; }` so we also need the `!important` here to be able to override the default hidden behavior on the sphinx rendered scikit-learn.org. See: https://github.com/scikit-learn/scikit-learn/issues/21755 */display: inline-block !important;position: relative;}#sk-container-id-4 div.sk-text-repr-fallback {display: none;}</style><div id=\"sk-container-id-4\" class=\"sk-top-container\"><div class=\"sk-text-repr-fallback\"><pre>RandomForestClassifier()</pre><b>In a Jupyter environment, please rerun this cell to show the HTML representation or trust the notebook. <br />On GitHub, the HTML representation is unable to render, please try loading this page with nbviewer.org.</b></div><div class=\"sk-container\" hidden><div class=\"sk-item\"><div class=\"sk-estimator sk-toggleable\"><input class=\"sk-toggleable__control sk-hidden--visually\" id=\"sk-estimator-id-4\" type=\"checkbox\" checked><label for=\"sk-estimator-id-4\" class=\"sk-toggleable__label sk-toggleable__label-arrow\">RandomForestClassifier</label><div class=\"sk-toggleable__content\"><pre>RandomForestClassifier()</pre></div></div></div></div></div>"
            ]
          },
          "metadata": {},
          "execution_count": 58
        }
      ]
    },
    {
      "cell_type": "code",
      "source": [
        "training_accuracy = forest_classifier.score(X_train, y_train)\n",
        "testing_accuracy = forest_classifier.score(X_test, y_test)\n",
        "print(\"Training accuracy :\",training_accuracy*100)\n",
        "print(\"Testing accuracy :\",testing_accuracy*100)\n",
        "\n",
        "# Plot the accuracies\n",
        "plt.figure(figsize=(4, 2))\n",
        "plt.bar(['Train Accuracy', 'Test Accuracy'], [training_accuracy, testing_accuracy], color=['blue', 'green'])\n",
        "plt.ylim(0, 1)\n",
        "plt.ylabel('Accuracy')\n",
        "plt.title('Train and Test Accuracy')\n",
        "plt.show()"
      ],
      "metadata": {
        "colab": {
          "base_uri": "https://localhost:8080/",
          "height": 273
        },
        "id": "lT39nYTJPRGO",
        "outputId": "b1872854-8d69-4ae6-b5de-1cbe0c9b95a6"
      },
      "execution_count": 59,
      "outputs": [
        {
          "output_type": "stream",
          "name": "stdout",
          "text": [
            "Training accuracy : 100.0\n",
            "Testing accuracy : 91.00392900690963\n"
          ]
        },
        {
          "output_type": "display_data",
          "data": {
            "text/plain": [
              "<Figure size 400x200 with 1 Axes>"
            ],
            "image/png": "[encoded data removed]"
          },
          "metadata": {}
        }
      ]
    },
    {
      "cell_type": "code",
      "source": [
        "#sove model for inference\n",
        "pickle_file = 'anamoly_dector_forest.pickle'\n",
        "with open(pickle_file, 'wb') as file:\n",
        "    pickle.dump(classifier, file)"
      ],
      "metadata": {
        "id": "h5aCH6PfQ7Py"
      },
      "execution_count": 60,
      "outputs": []
    },
    {
      "cell_type": "code",
      "source": [],
      "metadata": {
        "id": "y0HqtDl1R03b"
      },
      "execution_count": null,
      "outputs": []
    }
  ]
}